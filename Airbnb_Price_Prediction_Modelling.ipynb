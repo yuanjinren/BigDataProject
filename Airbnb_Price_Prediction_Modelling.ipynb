{
 "cells": [
  {
   "cell_type": "markdown",
   "metadata": {
    "id": "sq8U3BtmhtRx"
   },
   "source": [
    "\n",
    "# **Running Pyspark in Colab**\n",
    "\n",
    "To run spark in Colab, we need to first install all the dependencies in Colab environment i.e. Apache Spark 3.0.1 with hadoop 2.7, Java 8 and Findspark to locate the spark in the system. The tools installation can be carried out inside the Jupyter Notebook of the Colab. "
   ]
  },
  {
   "cell_type": "code",
   "execution_count": null,
   "metadata": {
    "id": "lh5NCoc8fsSO"
   },
   "outputs": [],
   "source": [
    "!apt-get install openjdk-8-jdk-headless -qq > /dev/null\n",
    "!wget -q https://www-us.apache.org/dist/spark/spark-3.0.1/spark-3.0.1-bin-hadoop2.7.tgz\n",
    "!tar xf spark-3.0.1-bin-hadoop2.7.tgz\n",
    "!pip install -q findspark"
   ]
  },
  {
   "cell_type": "markdown",
   "metadata": {
    "id": "ILheUROOhprv"
   },
   "source": [
    "Now we have installed Spark and Java in Colab, it is time to set the environment path which enables us to run Pyspark in Colab environment. Set the location of Java and Spark by running the following code:"
   ]
  },
  {
   "cell_type": "code",
   "execution_count": null,
   "metadata": {
    "id": "v1b8k_OVf2QF"
   },
   "outputs": [],
   "source": [
    "import os\n",
    "os.environ[\"JAVA_HOME\"] = \"/usr/lib/jvm/java-8-openjdk-amd64\"\n",
    "os.environ[\"SPARK_HOME\"] = \"/content/spark-3.0.1-bin-hadoop2.7\""
   ]
  },
  {
   "cell_type": "markdown",
   "metadata": {
    "id": "KwrqMk3HiMiE"
   },
   "source": [
    "Run a local spark session to test installation:"
   ]
  },
  {
   "cell_type": "code",
   "execution_count": null,
   "metadata": {
    "id": "9_Uz1NL4gHFx"
   },
   "outputs": [],
   "source": [
    "import findspark\n",
    "findspark.init('/content/spark-3.0.1-bin-hadoop2.7')\n",
    "from pyspark.sql import SparkSession\n",
    "spark = SparkSession.builder.master(\"local[*]\").getOrCreate()\n",
    "# spark = SparkSession.builder.appName(\"Basics\").getOrCreate()"
   ]
  },
  {
   "cell_type": "markdown",
   "metadata": {
    "id": "VWCY9DMkA0vz"
   },
   "source": [
    "Now colab is ready to run Pyspark. "
   ]
  },
  {
   "cell_type": "markdown",
   "metadata": {
    "id": "Wsv2jPvfCZz1"
   },
   "source": [
    "# **Load the data**"
   ]
  },
  {
   "cell_type": "code",
   "execution_count": null,
   "metadata": {
    "colab": {
     "base_uri": "https://localhost:8080/"
    },
    "id": "BD2UgGWcAPWs",
    "outputId": "8c5ff8c1-89ae-45ba-8679-6f957fb73dca"
   },
   "outputs": [
    {
     "name": "stdout",
     "output_type": "stream",
     "text": [
      "Drive already mounted at /content/drive; to attempt to forcibly remount, call drive.mount(\"/content/drive\", force_remount=True).\n"
     ]
    }
   ],
   "source": [
    "from google.colab import drive\n",
    "drive.mount('/content/drive')"
   ]
  },
  {
   "cell_type": "code",
   "execution_count": null,
   "metadata": {
    "id": "h0h2tem9A9xj"
   },
   "outputs": [],
   "source": [
    "dataset = '/content/drive/My Drive/AB_US_2020.csv'"
   ]
  },
  {
   "cell_type": "code",
   "execution_count": null,
   "metadata": {
    "id": "o9Q3YaypaZvY"
   },
   "outputs": [],
   "source": [
    "df = spark.read.csv(dataset,inferSchema=True, header =True)"
   ]
  },
  {
   "cell_type": "code",
   "execution_count": null,
   "metadata": {
    "colab": {
     "base_uri": "https://localhost:8080/"
    },
    "id": "BVjkMBE9B0Vg",
    "outputId": "1d7736aa-3843-464a-eeaf-a0a2536ac5e4"
   },
   "outputs": [
    {
     "name": "stdout",
     "output_type": "stream",
     "text": [
      "Shape of the dataset is 226724 rows by 17 columns.\n"
     ]
    }
   ],
   "source": [
    "print(f'Shape of the dataset is {df.count():d} rows by {len(df.columns):d} columns.')"
   ]
  },
  {
   "cell_type": "code",
   "execution_count": null,
   "metadata": {
    "colab": {
     "base_uri": "https://localhost:8080/"
    },
    "id": "eQJ2RhdjvvKU",
    "outputId": "e240b253-7dea-4be7-f813-22b8ce1f2d3b"
   },
   "outputs": [
    {
     "name": "stdout",
     "output_type": "stream",
     "text": [
      "+------+--------------------+-------+---------+-------------------+-------------+--------+---------+---------------+-----+--------------+-----------------+-----------+-----------------+------------------------------+----------------+---------+\n",
      "|    id|                name|host_id|host_name|neighbourhood_group|neighbourhood|latitude|longitude|      room_type|price|minimum_nights|number_of_reviews|last_review|reviews_per_month|calculated_host_listings_count|availability_365|     city|\n",
      "+------+--------------------+-------+---------+-------------------+-------------+--------+---------+---------------+-----+--------------+-----------------+-----------+-----------------+------------------------------+----------------+---------+\n",
      "| 38585|Charming Victoria...| 165529|  Evelyne|               null|        28804|35.65146|-82.62792|   Private room|   60|             1|              138|   16/02/20|             1.14|                             1|               0|Asheville|\n",
      "| 80905|    French Chic Loft| 427027|  Celeste|               null|        28801|35.59779| -82.5554|Entire home/apt|  470|             1|              114|   07/09/20|             1.03|                            11|             288|Asheville|\n",
      "|108061|Walk to stores/pa...| 320564|     Lisa|               null|        28801| 35.6067|-82.55563|Entire home/apt|   75|            30|               89|   30/11/19|             0.81|                             2|             298|Asheville|\n",
      "+------+--------------------+-------+---------+-------------------+-------------+--------+---------+---------------+-----+--------------+-----------------+-----------+-----------------+------------------------------+----------------+---------+\n",
      "only showing top 3 rows\n",
      "\n"
     ]
    }
   ],
   "source": [
    "df.show(3)"
   ]
  },
  {
   "cell_type": "code",
   "execution_count": null,
   "metadata": {
    "colab": {
     "base_uri": "https://localhost:8080/"
    },
    "id": "4IsBlNdBvxg_",
    "outputId": "47755b1f-a38f-4fa7-8d1b-851a0097f5ed"
   },
   "outputs": [
    {
     "name": "stdout",
     "output_type": "stream",
     "text": [
      "root\n",
      " |-- id: string (nullable = true)\n",
      " |-- name: string (nullable = true)\n",
      " |-- host_id: string (nullable = true)\n",
      " |-- host_name: string (nullable = true)\n",
      " |-- neighbourhood_group: string (nullable = true)\n",
      " |-- neighbourhood: string (nullable = true)\n",
      " |-- latitude: string (nullable = true)\n",
      " |-- longitude: string (nullable = true)\n",
      " |-- room_type: string (nullable = true)\n",
      " |-- price: string (nullable = true)\n",
      " |-- minimum_nights: string (nullable = true)\n",
      " |-- number_of_reviews: string (nullable = true)\n",
      " |-- last_review: string (nullable = true)\n",
      " |-- reviews_per_month: string (nullable = true)\n",
      " |-- calculated_host_listings_count: string (nullable = true)\n",
      " |-- availability_365: string (nullable = true)\n",
      " |-- city: string (nullable = true)\n",
      "\n"
     ]
    }
   ],
   "source": [
    "df.printSchema()"
   ]
  },
  {
   "cell_type": "code",
   "execution_count": null,
   "metadata": {
    "id": "QHcma0FnzCRE"
   },
   "outputs": [],
   "source": [
    "from pyspark.sql.types import StructType, StructField, StringType, IntegerType, DoubleType, TimestampType"
   ]
  },
  {
   "cell_type": "code",
   "execution_count": null,
   "metadata": {
    "id": "2c4lIy_LzRrI"
   },
   "outputs": [],
   "source": [
    "# Based on above printschema, data types are incorrect. Now we are creating our own schema \n",
    "DefinedSchema = [StructField('id', IntegerType(), True),\n",
    "                 StructField('name', StringType(),True),\n",
    "                 StructField('host_id', IntegerType(),True),\n",
    "                 StructField('host_name', StringType(),True),\n",
    "                 StructField('neighbourhood_group', StringType(),True),\n",
    "                 StructField('neighbourhood', StringType(),True),\n",
    "                 StructField('latitude', DoubleType(),True),\n",
    "                 StructField('longitude', DoubleType(),True),\n",
    "                 StructField('room_type', StringType(),True),\n",
    "                 StructField('price', DoubleType(),True),\n",
    "                 StructField('minimum_nights', IntegerType(), True),\n",
    "                 StructField('number_of_reviews', DoubleType(),True),\n",
    "                 StructField('last_review', TimestampType(),True),\n",
    "                 StructField('reviews_per_month', DoubleType(),True),\n",
    "                 StructField('calculated_host_listings_count', IntegerType(),True),\n",
    "                 StructField('availability_365', IntegerType(),True),\n",
    "                 StructField('city', StringType(),True)]"
   ]
  },
  {
   "cell_type": "code",
   "execution_count": null,
   "metadata": {
    "colab": {
     "base_uri": "https://localhost:8080/"
    },
    "id": "yj9AOvhXEH7D",
    "outputId": "aca7b7b6-c166-4a49-afd7-21c75bc79387"
   },
   "outputs": [
    {
     "data": {
      "text/plain": [
       "[StructField(id,IntegerType,true),\n",
       " StructField(name,StringType,true),\n",
       " StructField(host_id,IntegerType,true),\n",
       " StructField(host_name,StringType,true),\n",
       " StructField(neighbourhood_group,StringType,true),\n",
       " StructField(neighbourhood,StringType,true),\n",
       " StructField(latitude,DoubleType,true),\n",
       " StructField(longitude,DoubleType,true),\n",
       " StructField(room_type,StringType,true),\n",
       " StructField(price,DoubleType,true),\n",
       " StructField(minimum_nights,IntegerType,true),\n",
       " StructField(number_of_reviews,DoubleType,true),\n",
       " StructField(last_review,TimestampType,true),\n",
       " StructField(reviews_per_month,DoubleType,true),\n",
       " StructField(calculated_host_listings_count,IntegerType,true),\n",
       " StructField(availability_365,IntegerType,true),\n",
       " StructField(city,StringType,true)]"
      ]
     },
     "execution_count": 149,
     "metadata": {
      "tags": []
     },
     "output_type": "execute_result"
    }
   ],
   "source": [
    "DefinedSchema"
   ]
  },
  {
   "cell_type": "code",
   "execution_count": null,
   "metadata": {
    "id": "h204p0V9F5vv"
   },
   "outputs": [],
   "source": [
    "data_schema = StructType(fields=DefinedSchema)"
   ]
  },
  {
   "cell_type": "code",
   "execution_count": null,
   "metadata": {
    "colab": {
     "base_uri": "https://localhost:8080/"
    },
    "id": "8BEqr2zZF_P-",
    "outputId": "f3de6dd6-92fd-4a8a-810f-fe64e8dbdb8d"
   },
   "outputs": [
    {
     "data": {
      "text/plain": [
       "StructType(List(StructField(id,IntegerType,true),StructField(name,StringType,true),StructField(host_id,IntegerType,true),StructField(host_name,StringType,true),StructField(neighbourhood_group,StringType,true),StructField(neighbourhood,StringType,true),StructField(latitude,DoubleType,true),StructField(longitude,DoubleType,true),StructField(room_type,StringType,true),StructField(price,DoubleType,true),StructField(minimum_nights,IntegerType,true),StructField(number_of_reviews,DoubleType,true),StructField(last_review,TimestampType,true),StructField(reviews_per_month,DoubleType,true),StructField(calculated_host_listings_count,IntegerType,true),StructField(availability_365,IntegerType,true),StructField(city,StringType,true)))"
      ]
     },
     "execution_count": 151,
     "metadata": {
      "tags": []
     },
     "output_type": "execute_result"
    }
   ],
   "source": [
    "data_schema"
   ]
  },
  {
   "cell_type": "code",
   "execution_count": null,
   "metadata": {
    "id": "rkVhhxFGGCH1"
   },
   "outputs": [],
   "source": [
    "df = spark.read.csv(dataset,schema=data_schema, header =True)"
   ]
  },
  {
   "cell_type": "code",
   "execution_count": null,
   "metadata": {
    "colab": {
     "base_uri": "https://localhost:8080/"
    },
    "id": "Dw1JJHu5GOB6",
    "outputId": "0a3de503-9008-4b78-e3de-436c615ae983"
   },
   "outputs": [
    {
     "name": "stdout",
     "output_type": "stream",
     "text": [
      "root\n",
      " |-- id: integer (nullable = true)\n",
      " |-- name: string (nullable = true)\n",
      " |-- host_id: integer (nullable = true)\n",
      " |-- host_name: string (nullable = true)\n",
      " |-- neighbourhood_group: string (nullable = true)\n",
      " |-- neighbourhood: string (nullable = true)\n",
      " |-- latitude: double (nullable = true)\n",
      " |-- longitude: double (nullable = true)\n",
      " |-- room_type: string (nullable = true)\n",
      " |-- price: double (nullable = true)\n",
      " |-- minimum_nights: integer (nullable = true)\n",
      " |-- number_of_reviews: double (nullable = true)\n",
      " |-- last_review: timestamp (nullable = true)\n",
      " |-- reviews_per_month: double (nullable = true)\n",
      " |-- calculated_host_listings_count: integer (nullable = true)\n",
      " |-- availability_365: integer (nullable = true)\n",
      " |-- city: string (nullable = true)\n",
      "\n"
     ]
    }
   ],
   "source": [
    "# Now the data types are correct\n",
    "df.printSchema()"
   ]
  },
  {
   "cell_type": "code",
   "execution_count": null,
   "metadata": {
    "colab": {
     "base_uri": "https://localhost:8080/"
    },
    "id": "IVpZ6G-yGY-I",
    "outputId": "fcca1e16-80c2-4a70-fa35-7d7ecd83241c"
   },
   "outputs": [
    {
     "name": "stdout",
     "output_type": "stream",
     "text": [
      "+------+--------------------+--------+----------+-------------------+-------------+--------+---------+---------------+-----+--------------+-----------------+-----------+-----------------+------------------------------+----------------+---------+\n",
      "|    id|                name| host_id| host_name|neighbourhood_group|neighbourhood|latitude|longitude|      room_type|price|minimum_nights|number_of_reviews|last_review|reviews_per_month|calculated_host_listings_count|availability_365|     city|\n",
      "+------+--------------------+--------+----------+-------------------+-------------+--------+---------+---------------+-----+--------------+-----------------+-----------+-----------------+------------------------------+----------------+---------+\n",
      "| 38585|Charming Victoria...|  165529|   Evelyne|               null|        28804|35.65146|-82.62792|   Private room| 60.0|             1|            138.0|       null|             1.14|                             1|               0|Asheville|\n",
      "| 80905|    French Chic Loft|  427027|   Celeste|               null|        28801|35.59779| -82.5554|Entire home/apt|470.0|             1|            114.0|       null|             1.03|                            11|             288|Asheville|\n",
      "|108061|Walk to stores/pa...|  320564|      Lisa|               null|        28801| 35.6067|-82.55563|Entire home/apt| 75.0|            30|             89.0|       null|             0.81|                             2|             298|Asheville|\n",
      "|155305|Cottage! BonPaul ...|  746673|   BonPaul|               null|        28806|35.57864|-82.59578|Entire home/apt| 90.0|             1|            267.0|       null|             2.39|                             5|               0|Asheville|\n",
      "|160594| Historic Grove Park|  769252| Elizabeth|               null|        28801|35.61442|-82.54127|   Private room|125.0|            30|             58.0|       null|             0.52|                             1|               0|Asheville|\n",
      "|209068|     Terrace Cottage| 1029919|     Kevin|               null|        28804|35.61856|-82.55276|Entire home/apt|134.0|             7|             54.0|       null|             0.49|                             1|             294|Asheville|\n",
      "|213006|      Blue Gate West| 1098412|   Susanne|               null|        28806|35.58345|-82.59713|   Private room| 48.0|             1|            137.0|       null|             1.35|                             1|               0|Asheville|\n",
      "|246315|Asheville Dreamer...| 1292070|     Annie|               null|        28805|35.59635|-82.50655|   Private room| 65.0|             3|             57.0|       null|             0.53|                             2|             106|Asheville|\n",
      "|259576|Private, peaceful...| 1362726|     Julia|               null|        28805|35.61929|-82.48114|Entire home/apt| 71.0|            28|            537.0|       null|             5.01|                             1|             207|Asheville|\n",
      "|295496|The Fern Street A...| 1501882|    Debbie|               null|        28803|35.55537|-82.53539|Entire home/apt| 50.0|            90|             31.0|       null|             0.29|                             1|             339|Asheville|\n",
      "|304379|Refocus Cottage -...| 1566145|     Gayle|               null|        28804|35.64453|-82.52586|Entire home/apt|289.0|            30|             24.0|       null|             0.23|                             2|               0|Asheville|\n",
      "|353092|Athena's Loft:  F...| 1788071|      Beth|               null|        28806|35.58217|-82.59997|Entire home/apt| 78.0|             4|            497.0|       null|             5.76|                             1|             315|Asheville|\n",
      "|427497|Luxurious Mountai...| 1909922|     Milan|               null|        28803|35.49111|-82.48438|Entire home/apt|125.0|             2|             40.0|       null|             0.42|                             1|             339|Asheville|\n",
      "|436476|8 min Walk to DT ...|  478398|     Heidi|               null|        28801|35.60182|-82.56174|Entire home/apt|126.0|             3|            289.0|       null|             2.86|                             3|              96|Asheville|\n",
      "|483384|Romantic, Morocca...|  467421|   Camille|               null|        28803|35.56118|-82.57784|Entire home/apt|118.0|             2|            466.0|       null|             6.39|                             1|               0|Asheville|\n",
      "|495111|Walk Downtown pri...|12874214|     David|               null|        28801|35.60371|-82.55621|   Private room| 85.0|             2|            338.0|       null|             3.36|                             3|               0|Asheville|\n",
      "|498089|Urban Getaway - P...| 2164379|Anne Marie|               null|        28801|35.61115|-82.54376|Entire home/apt| 50.0|            30|            130.0|       null|             1.29|                             1|             141|Asheville|\n",
      "|528535|Dwntwn Studio w/ ...| 2596933|         B|               null|        28801|35.60075| -82.5539|Entire home/apt| 97.0|            30|            352.0|       null|              3.5|                             2|              32|Asheville|\n",
      "|539020|Comfy/quiet West ...| 2647849|       Kim|               null|        28806|35.57318|-82.59976|Entire home/apt| 74.0|             2|            185.0|       null|             1.86|                             1|             297|Asheville|\n",
      "|621243|The birdhouse.Swe...| 3079174|     Molly|               null|        28801|35.60418|-82.54964|Entire home/apt|160.0|            30|             69.0|       null|             2.25|                             1|             161|Asheville|\n",
      "+------+--------------------+--------+----------+-------------------+-------------+--------+---------+---------------+-----+--------------+-----------------+-----------+-----------------+------------------------------+----------------+---------+\n",
      "only showing top 20 rows\n",
      "\n"
     ]
    }
   ],
   "source": [
    "df.show()"
   ]
  },
  {
   "cell_type": "markdown",
   "metadata": {
    "id": "d42hmBMNSPin"
   },
   "source": [
    "# Clean Data"
   ]
  },
  {
   "cell_type": "code",
   "execution_count": null,
   "metadata": {
    "colab": {
     "base_uri": "https://localhost:8080/"
    },
    "id": "09O1pQWKSHa7",
    "outputId": "863befc8-c68d-42ea-b173-e5a8030bc4f7"
   },
   "outputs": [
    {
     "data": {
      "text/plain": [
       "226724"
      ]
     },
     "execution_count": 179,
     "metadata": {
      "tags": []
     },
     "output_type": "execute_result"
    }
   ],
   "source": [
    "df.count()"
   ]
  },
  {
   "cell_type": "markdown",
   "metadata": {
    "id": "837wqq9dSwjc"
   },
   "source": [
    "Clean the NA value in price, city and room type"
   ]
  },
  {
   "cell_type": "code",
   "execution_count": null,
   "metadata": {
    "colab": {
     "base_uri": "https://localhost:8080/"
    },
    "id": "l8LKq5c8SZRv",
    "outputId": "8faf9539-bde3-42dc-cacb-6e8a9319ebbb"
   },
   "outputs": [
    {
     "data": {
      "text/plain": [
       "225373"
      ]
     },
     "execution_count": 180,
     "metadata": {
      "tags": []
     },
     "output_type": "execute_result"
    }
   ],
   "source": [
    "df = df.dropna(how='any', subset = ['price','city','room_type'])\n",
    "df.count()"
   ]
  },
  {
   "cell_type": "markdown",
   "metadata": {
    "id": "_0AKH6Pjb17l"
   },
   "source": [
    "Check number of null value in each column"
   ]
  },
  {
   "cell_type": "code",
   "execution_count": null,
   "metadata": {
    "colab": {
     "base_uri": "https://localhost:8080/"
    },
    "id": "1M5o9Q3aaAsI",
    "outputId": "5b90c7db-4b61-41b0-d248-3ef75f7ac282"
   },
   "outputs": [
    {
     "data": {
      "text/plain": [
       "39"
      ]
     },
     "execution_count": 214,
     "metadata": {
      "tags": []
     },
     "output_type": "execute_result"
    }
   ],
   "source": [
    "df.filter(df['id'].isNull()).count()"
   ]
  },
  {
   "cell_type": "code",
   "execution_count": null,
   "metadata": {
    "colab": {
     "base_uri": "https://localhost:8080/"
    },
    "id": "0wutkYsca-3a",
    "outputId": "2b61d1de-3503-479f-c448-8c72c927e7c4"
   },
   "outputs": [
    {
     "data": {
      "text/plain": [
       "25"
      ]
     },
     "execution_count": 216,
     "metadata": {
      "tags": []
     },
     "output_type": "execute_result"
    }
   ],
   "source": [
    "df.filter(df['name'].isNull()).count()"
   ]
  },
  {
   "cell_type": "code",
   "execution_count": null,
   "metadata": {
    "colab": {
     "base_uri": "https://localhost:8080/"
    },
    "id": "QgSQhveIbW2w",
    "outputId": "4bdedaf2-38be-47c9-c6b6-e27da0d39d56"
   },
   "outputs": [
    {
     "data": {
      "text/plain": [
       "32"
      ]
     },
     "execution_count": 217,
     "metadata": {
      "tags": []
     },
     "output_type": "execute_result"
    }
   ],
   "source": [
    "df.where(df['host_id'].isNull()).count()"
   ]
  },
  {
   "cell_type": "code",
   "execution_count": null,
   "metadata": {
    "colab": {
     "base_uri": "https://localhost:8080/"
    },
    "id": "l3ppQ7mRbetz",
    "outputId": "ea98f0be-499e-4538-9470-9a2838bfddcc"
   },
   "outputs": [
    {
     "data": {
      "text/plain": [
       "33"
      ]
     },
     "execution_count": 218,
     "metadata": {
      "tags": []
     },
     "output_type": "execute_result"
    }
   ],
   "source": [
    "df.where(df['host_name'].isNull()).count()"
   ]
  },
  {
   "cell_type": "code",
   "execution_count": null,
   "metadata": {
    "colab": {
     "base_uri": "https://localhost:8080/"
    },
    "id": "uv5CmU9ObkzG",
    "outputId": "1d768c7a-7376-4bbf-8740-ab6718d1546d"
   },
   "outputs": [
    {
     "data": {
      "text/plain": [
       "115516"
      ]
     },
     "execution_count": 219,
     "metadata": {
      "tags": []
     },
     "output_type": "execute_result"
    }
   ],
   "source": [
    "df.where(df['neighbourhood_group'].isNull()).count()"
   ]
  },
  {
   "cell_type": "code",
   "execution_count": null,
   "metadata": {
    "colab": {
     "base_uri": "https://localhost:8080/"
    },
    "id": "OQp4ShtNbrwh",
    "outputId": "1d892f7c-1ff7-4789-b21e-240950a13ddc"
   },
   "outputs": [
    {
     "data": {
      "text/plain": [
       "0"
      ]
     },
     "execution_count": 220,
     "metadata": {
      "tags": []
     },
     "output_type": "execute_result"
    }
   ],
   "source": [
    "df.where(df['neighbourhood'].isNull()).count()"
   ]
  },
  {
   "cell_type": "code",
   "execution_count": null,
   "metadata": {
    "colab": {
     "base_uri": "https://localhost:8080/"
    },
    "id": "85UzQwOWcDV_",
    "outputId": "a84f1804-d2e2-4733-c74b-2f6f8babe415"
   },
   "outputs": [
    {
     "data": {
      "text/plain": [
       "32"
      ]
     },
     "execution_count": 221,
     "metadata": {
      "tags": []
     },
     "output_type": "execute_result"
    }
   ],
   "source": [
    "df.where(df['latitude'].isNull()).count()"
   ]
  },
  {
   "cell_type": "code",
   "execution_count": null,
   "metadata": {
    "colab": {
     "base_uri": "https://localhost:8080/"
    },
    "id": "2EZnHKO0cJ6B",
    "outputId": "1093798b-bb1a-40e4-fc2e-b5fa872dda1c"
   },
   "outputs": [
    {
     "data": {
      "text/plain": [
       "31"
      ]
     },
     "execution_count": 222,
     "metadata": {
      "tags": []
     },
     "output_type": "execute_result"
    }
   ],
   "source": [
    "df.where(df['longitude'].isNull()).count()"
   ]
  },
  {
   "cell_type": "code",
   "execution_count": null,
   "metadata": {
    "colab": {
     "base_uri": "https://localhost:8080/"
    },
    "id": "_XRQtBYQcVxX",
    "outputId": "66c458d8-7358-48b7-cd7b-57c30523ff8b"
   },
   "outputs": [
    {
     "data": {
      "text/plain": [
       "32"
      ]
     },
     "execution_count": 223,
     "metadata": {
      "tags": []
     },
     "output_type": "execute_result"
    }
   ],
   "source": [
    "df.where(df['minimum_nights'].isNull()).count()"
   ]
  },
  {
   "cell_type": "code",
   "execution_count": null,
   "metadata": {
    "colab": {
     "base_uri": "https://localhost:8080/"
    },
    "id": "_Ikbh0jHcczE",
    "outputId": "4c331840-744d-4da1-f018-777ea0abe34b"
   },
   "outputs": [
    {
     "data": {
      "text/plain": [
       "3"
      ]
     },
     "execution_count": 224,
     "metadata": {
      "tags": []
     },
     "output_type": "execute_result"
    }
   ],
   "source": [
    "df.where(df['number_of_reviews'].isNull()).count()"
   ]
  },
  {
   "cell_type": "code",
   "execution_count": null,
   "metadata": {
    "colab": {
     "base_uri": "https://localhost:8080/"
    },
    "id": "FexywmJFcikJ",
    "outputId": "8aecbab6-1fec-4e00-b8a7-0c3501afab49"
   },
   "outputs": [
    {
     "data": {
      "text/plain": [
       "225373"
      ]
     },
     "execution_count": 225,
     "metadata": {
      "tags": []
     },
     "output_type": "execute_result"
    }
   ],
   "source": [
    "df.where(df['last_review'].isNull()).count()"
   ]
  },
  {
   "cell_type": "code",
   "execution_count": null,
   "metadata": {
    "colab": {
     "base_uri": "https://localhost:8080/"
    },
    "id": "Qug5CdRdcsuh",
    "outputId": "c2c8fe1f-1bab-4825-a586-5d573093e523"
   },
   "outputs": [
    {
     "data": {
      "text/plain": [
       "48499"
      ]
     },
     "execution_count": 226,
     "metadata": {
      "tags": []
     },
     "output_type": "execute_result"
    }
   ],
   "source": [
    "df.where(df['reviews_per_month'].isNull()).count()"
   ]
  },
  {
   "cell_type": "code",
   "execution_count": null,
   "metadata": {
    "colab": {
     "base_uri": "https://localhost:8080/"
    },
    "id": "BTSyr1sZc16z",
    "outputId": "b435d4b9-acb2-42fc-eba2-c7a8e7e552bc"
   },
   "outputs": [
    {
     "data": {
      "text/plain": [
       "29"
      ]
     },
     "execution_count": 227,
     "metadata": {
      "tags": []
     },
     "output_type": "execute_result"
    }
   ],
   "source": [
    "df.where(df['calculated_host_listings_count'].isNull()).count()"
   ]
  },
  {
   "cell_type": "code",
   "execution_count": null,
   "metadata": {
    "colab": {
     "base_uri": "https://localhost:8080/"
    },
    "id": "DbGXJw-9c6T5",
    "outputId": "275c3312-7274-4c94-837a-a63bab553061"
   },
   "outputs": [
    {
     "data": {
      "text/plain": [
       "32"
      ]
     },
     "execution_count": 228,
     "metadata": {
      "tags": []
     },
     "output_type": "execute_result"
    }
   ],
   "source": [
    "df.where(df['availability_365'].isNull()).count()"
   ]
  },
  {
   "cell_type": "markdown",
   "metadata": {
    "id": "xqvC1xfodDPn"
   },
   "source": [
    "Based on above number of null values, 'neighbourhood_group' and 'last_review' columns are going to be dropped. OTHER columns are going to be filled with values as follows: "
   ]
  },
  {
   "cell_type": "code",
   "execution_count": null,
   "metadata": {
    "id": "lo4-W1z3dYoz"
   },
   "outputs": [],
   "source": [
    "df = df.drop('neighbourhood_group','last_review')"
   ]
  },
  {
   "cell_type": "code",
   "execution_count": null,
   "metadata": {
    "colab": {
     "base_uri": "https://localhost:8080/"
    },
    "id": "74UfXvxufvSC",
    "outputId": "d90cd1af-1317-4c7b-90c3-374a1cf2caa4"
   },
   "outputs": [
    {
     "name": "stdout",
     "output_type": "stream",
     "text": [
      "root\n",
      " |-- id: integer (nullable = true)\n",
      " |-- name: string (nullable = true)\n",
      " |-- host_id: integer (nullable = true)\n",
      " |-- host_name: string (nullable = true)\n",
      " |-- neighbourhood: string (nullable = true)\n",
      " |-- latitude: double (nullable = true)\n",
      " |-- longitude: double (nullable = true)\n",
      " |-- room_type: string (nullable = true)\n",
      " |-- price: double (nullable = true)\n",
      " |-- minimum_nights: integer (nullable = true)\n",
      " |-- number_of_reviews: double (nullable = true)\n",
      " |-- reviews_per_month: double (nullable = true)\n",
      " |-- calculated_host_listings_count: integer (nullable = true)\n",
      " |-- availability_365: integer (nullable = true)\n",
      " |-- city: string (nullable = true)\n",
      "\n"
     ]
    }
   ],
   "source": [
    "df.printSchema()"
   ]
  },
  {
   "cell_type": "code",
   "execution_count": null,
   "metadata": {
    "colab": {
     "base_uri": "https://localhost:8080/"
    },
    "id": "5zllrHS1fJpX",
    "outputId": "804405fb-213a-4f80-9697-1153cb77a79a"
   },
   "outputs": [
    {
     "name": "stdout",
     "output_type": "stream",
     "text": [
      "+------+--------------------+--------+----------+-------------+--------+---------+---------------+-----+--------------+-----------------+-----------------+------------------------------+----------------+---------+\n",
      "|    id|                name| host_id| host_name|neighbourhood|latitude|longitude|      room_type|price|minimum_nights|number_of_reviews|reviews_per_month|calculated_host_listings_count|availability_365|     city|\n",
      "+------+--------------------+--------+----------+-------------+--------+---------+---------------+-----+--------------+-----------------+-----------------+------------------------------+----------------+---------+\n",
      "| 38585|Charming Victoria...|  165529|   Evelyne|        28804|35.65146|-82.62792|   Private room| 60.0|             1|            138.0|             1.14|                             1|               0|Asheville|\n",
      "| 80905|    French Chic Loft|  427027|   Celeste|        28801|35.59779| -82.5554|Entire home/apt|470.0|             1|            114.0|             1.03|                            11|             288|Asheville|\n",
      "|108061|Walk to stores/pa...|  320564|      Lisa|        28801| 35.6067|-82.55563|Entire home/apt| 75.0|            30|             89.0|             0.81|                             2|             298|Asheville|\n",
      "|155305|Cottage! BonPaul ...|  746673|   BonPaul|        28806|35.57864|-82.59578|Entire home/apt| 90.0|             1|            267.0|             2.39|                             5|               0|Asheville|\n",
      "|160594| Historic Grove Park|  769252| Elizabeth|        28801|35.61442|-82.54127|   Private room|125.0|            30|             58.0|             0.52|                             1|               0|Asheville|\n",
      "|209068|     Terrace Cottage| 1029919|     Kevin|        28804|35.61856|-82.55276|Entire home/apt|134.0|             7|             54.0|             0.49|                             1|             294|Asheville|\n",
      "|213006|      Blue Gate West| 1098412|   Susanne|        28806|35.58345|-82.59713|   Private room| 48.0|             1|            137.0|             1.35|                             1|               0|Asheville|\n",
      "|246315|Asheville Dreamer...| 1292070|     Annie|        28805|35.59635|-82.50655|   Private room| 65.0|             3|             57.0|             0.53|                             2|             106|Asheville|\n",
      "|259576|Private, peaceful...| 1362726|     Julia|        28805|35.61929|-82.48114|Entire home/apt| 71.0|            28|            537.0|             5.01|                             1|             207|Asheville|\n",
      "|295496|The Fern Street A...| 1501882|    Debbie|        28803|35.55537|-82.53539|Entire home/apt| 50.0|            90|             31.0|             0.29|                             1|             339|Asheville|\n",
      "|304379|Refocus Cottage -...| 1566145|     Gayle|        28804|35.64453|-82.52586|Entire home/apt|289.0|            30|             24.0|             0.23|                             2|               0|Asheville|\n",
      "|353092|Athena's Loft:  F...| 1788071|      Beth|        28806|35.58217|-82.59997|Entire home/apt| 78.0|             4|            497.0|             5.76|                             1|             315|Asheville|\n",
      "|427497|Luxurious Mountai...| 1909922|     Milan|        28803|35.49111|-82.48438|Entire home/apt|125.0|             2|             40.0|             0.42|                             1|             339|Asheville|\n",
      "|436476|8 min Walk to DT ...|  478398|     Heidi|        28801|35.60182|-82.56174|Entire home/apt|126.0|             3|            289.0|             2.86|                             3|              96|Asheville|\n",
      "|483384|Romantic, Morocca...|  467421|   Camille|        28803|35.56118|-82.57784|Entire home/apt|118.0|             2|            466.0|             6.39|                             1|               0|Asheville|\n",
      "|495111|Walk Downtown pri...|12874214|     David|        28801|35.60371|-82.55621|   Private room| 85.0|             2|            338.0|             3.36|                             3|               0|Asheville|\n",
      "|498089|Urban Getaway - P...| 2164379|Anne Marie|        28801|35.61115|-82.54376|Entire home/apt| 50.0|            30|            130.0|             1.29|                             1|             141|Asheville|\n",
      "|528535|Dwntwn Studio w/ ...| 2596933|         B|        28801|35.60075| -82.5539|Entire home/apt| 97.0|            30|            352.0|              3.5|                             2|              32|Asheville|\n",
      "|539020|Comfy/quiet West ...| 2647849|       Kim|        28806|35.57318|-82.59976|Entire home/apt| 74.0|             2|            185.0|             1.86|                             1|             297|Asheville|\n",
      "|621243|The birdhouse.Swe...| 3079174|     Molly|        28801|35.60418|-82.54964|Entire home/apt|160.0|            30|             69.0|             2.25|                             1|             161|Asheville|\n",
      "+------+--------------------+--------+----------+-------------+--------+---------+---------------+-----+--------------+-----------------+-----------------+------------------------------+----------------+---------+\n",
      "only showing top 20 rows\n",
      "\n"
     ]
    }
   ],
   "source": [
    "df.na.fill({'name':'unknown', 'host_name':'unknown'}).show()"
   ]
  },
  {
   "cell_type": "code",
   "execution_count": null,
   "metadata": {
    "id": "m8L1GyLNkJUA"
   },
   "outputs": [],
   "source": [
    "from pyspark.sql.functions import min\n",
    "from pyspark.sql.functions import mean"
   ]
  },
  {
   "cell_type": "code",
   "execution_count": null,
   "metadata": {
    "id": "bqv0-B89jafp"
   },
   "outputs": [],
   "source": [
    "minValue_mn = df.select(min(df['minimum_nights'])).collect()"
   ]
  },
  {
   "cell_type": "code",
   "execution_count": null,
   "metadata": {
    "id": "MXSHxcc4kOIv"
   },
   "outputs": [],
   "source": [
    "min_mn =minValue_mn[0][0]"
   ]
  },
  {
   "cell_type": "code",
   "execution_count": null,
   "metadata": {
    "colab": {
     "base_uri": "https://localhost:8080/"
    },
    "id": "90_4-QgbkkhR",
    "outputId": "7e75eca6-94c9-4f4a-c1a4-d537e6217480"
   },
   "outputs": [
    {
     "name": "stdout",
     "output_type": "stream",
     "text": [
      "+------+--------------------+--------+----------+-------------+--------+---------+---------------+-----+--------------+-----------------+-----------------+------------------------------+----------------+---------+\n",
      "|    id|                name| host_id| host_name|neighbourhood|latitude|longitude|      room_type|price|minimum_nights|number_of_reviews|reviews_per_month|calculated_host_listings_count|availability_365|     city|\n",
      "+------+--------------------+--------+----------+-------------+--------+---------+---------------+-----+--------------+-----------------+-----------------+------------------------------+----------------+---------+\n",
      "| 38585|Charming Victoria...|  165529|   Evelyne|        28804|35.65146|-82.62792|   Private room| 60.0|             1|            138.0|             1.14|                             1|               0|Asheville|\n",
      "| 80905|    French Chic Loft|  427027|   Celeste|        28801|35.59779| -82.5554|Entire home/apt|470.0|             1|            114.0|             1.03|                            11|             288|Asheville|\n",
      "|108061|Walk to stores/pa...|  320564|      Lisa|        28801| 35.6067|-82.55563|Entire home/apt| 75.0|            30|             89.0|             0.81|                             2|             298|Asheville|\n",
      "|155305|Cottage! BonPaul ...|  746673|   BonPaul|        28806|35.57864|-82.59578|Entire home/apt| 90.0|             1|            267.0|             2.39|                             5|               0|Asheville|\n",
      "|160594| Historic Grove Park|  769252| Elizabeth|        28801|35.61442|-82.54127|   Private room|125.0|            30|             58.0|             0.52|                             1|               0|Asheville|\n",
      "|209068|     Terrace Cottage| 1029919|     Kevin|        28804|35.61856|-82.55276|Entire home/apt|134.0|             7|             54.0|             0.49|                             1|             294|Asheville|\n",
      "|213006|      Blue Gate West| 1098412|   Susanne|        28806|35.58345|-82.59713|   Private room| 48.0|             1|            137.0|             1.35|                             1|               0|Asheville|\n",
      "|246315|Asheville Dreamer...| 1292070|     Annie|        28805|35.59635|-82.50655|   Private room| 65.0|             3|             57.0|             0.53|                             2|             106|Asheville|\n",
      "|259576|Private, peaceful...| 1362726|     Julia|        28805|35.61929|-82.48114|Entire home/apt| 71.0|            28|            537.0|             5.01|                             1|             207|Asheville|\n",
      "|295496|The Fern Street A...| 1501882|    Debbie|        28803|35.55537|-82.53539|Entire home/apt| 50.0|            90|             31.0|             0.29|                             1|             339|Asheville|\n",
      "|304379|Refocus Cottage -...| 1566145|     Gayle|        28804|35.64453|-82.52586|Entire home/apt|289.0|            30|             24.0|             0.23|                             2|               0|Asheville|\n",
      "|353092|Athena's Loft:  F...| 1788071|      Beth|        28806|35.58217|-82.59997|Entire home/apt| 78.0|             4|            497.0|             5.76|                             1|             315|Asheville|\n",
      "|427497|Luxurious Mountai...| 1909922|     Milan|        28803|35.49111|-82.48438|Entire home/apt|125.0|             2|             40.0|             0.42|                             1|             339|Asheville|\n",
      "|436476|8 min Walk to DT ...|  478398|     Heidi|        28801|35.60182|-82.56174|Entire home/apt|126.0|             3|            289.0|             2.86|                             3|              96|Asheville|\n",
      "|483384|Romantic, Morocca...|  467421|   Camille|        28803|35.56118|-82.57784|Entire home/apt|118.0|             2|            466.0|             6.39|                             1|               0|Asheville|\n",
      "|495111|Walk Downtown pri...|12874214|     David|        28801|35.60371|-82.55621|   Private room| 85.0|             2|            338.0|             3.36|                             3|               0|Asheville|\n",
      "|498089|Urban Getaway - P...| 2164379|Anne Marie|        28801|35.61115|-82.54376|Entire home/apt| 50.0|            30|            130.0|             1.29|                             1|             141|Asheville|\n",
      "|528535|Dwntwn Studio w/ ...| 2596933|         B|        28801|35.60075| -82.5539|Entire home/apt| 97.0|            30|            352.0|              3.5|                             2|              32|Asheville|\n",
      "|539020|Comfy/quiet West ...| 2647849|       Kim|        28806|35.57318|-82.59976|Entire home/apt| 74.0|             2|            185.0|             1.86|                             1|             297|Asheville|\n",
      "|621243|The birdhouse.Swe...| 3079174|     Molly|        28801|35.60418|-82.54964|Entire home/apt|160.0|            30|             69.0|             2.25|                             1|             161|Asheville|\n",
      "+------+--------------------+--------+----------+-------------+--------+---------+---------------+-----+--------------+-----------------+-----------------+------------------------------+----------------+---------+\n",
      "only showing top 20 rows\n",
      "\n"
     ]
    }
   ],
   "source": [
    "df.na.fill(min_mn, ['minimum_nights']).show()"
   ]
  },
  {
   "cell_type": "code",
   "execution_count": null,
   "metadata": {
    "id": "wSmnHFDhg_5k"
   },
   "outputs": [],
   "source": [
    "meanValue_nr = df.select(mean(df['number_of_reviews'])).collect()"
   ]
  },
  {
   "cell_type": "code",
   "execution_count": null,
   "metadata": {
    "id": "U01ia2TKjM2e"
   },
   "outputs": [],
   "source": [
    "mean_nr = meanValue_nr[0][0]"
   ]
  },
  {
   "cell_type": "code",
   "execution_count": null,
   "metadata": {
    "colab": {
     "base_uri": "https://localhost:8080/"
    },
    "id": "KrURjljik-ey",
    "outputId": "40128aa7-d3ab-4b26-b2c1-5fc01c588b73"
   },
   "outputs": [
    {
     "name": "stdout",
     "output_type": "stream",
     "text": [
      "+------+--------------------+--------+----------+-------------+--------+---------+---------------+-----+--------------+-----------------+-----------------+------------------------------+----------------+---------+\n",
      "|    id|                name| host_id| host_name|neighbourhood|latitude|longitude|      room_type|price|minimum_nights|number_of_reviews|reviews_per_month|calculated_host_listings_count|availability_365|     city|\n",
      "+------+--------------------+--------+----------+-------------+--------+---------+---------------+-----+--------------+-----------------+-----------------+------------------------------+----------------+---------+\n",
      "| 38585|Charming Victoria...|  165529|   Evelyne|        28804|35.65146|-82.62792|   Private room| 60.0|             1|            138.0|             1.14|                             1|               0|Asheville|\n",
      "| 80905|    French Chic Loft|  427027|   Celeste|        28801|35.59779| -82.5554|Entire home/apt|470.0|             1|            114.0|             1.03|                            11|             288|Asheville|\n",
      "|108061|Walk to stores/pa...|  320564|      Lisa|        28801| 35.6067|-82.55563|Entire home/apt| 75.0|            30|             89.0|             0.81|                             2|             298|Asheville|\n",
      "|155305|Cottage! BonPaul ...|  746673|   BonPaul|        28806|35.57864|-82.59578|Entire home/apt| 90.0|             1|            267.0|             2.39|                             5|               0|Asheville|\n",
      "|160594| Historic Grove Park|  769252| Elizabeth|        28801|35.61442|-82.54127|   Private room|125.0|            30|             58.0|             0.52|                             1|               0|Asheville|\n",
      "|209068|     Terrace Cottage| 1029919|     Kevin|        28804|35.61856|-82.55276|Entire home/apt|134.0|             7|             54.0|             0.49|                             1|             294|Asheville|\n",
      "|213006|      Blue Gate West| 1098412|   Susanne|        28806|35.58345|-82.59713|   Private room| 48.0|             1|            137.0|             1.35|                             1|               0|Asheville|\n",
      "|246315|Asheville Dreamer...| 1292070|     Annie|        28805|35.59635|-82.50655|   Private room| 65.0|             3|             57.0|             0.53|                             2|             106|Asheville|\n",
      "|259576|Private, peaceful...| 1362726|     Julia|        28805|35.61929|-82.48114|Entire home/apt| 71.0|            28|            537.0|             5.01|                             1|             207|Asheville|\n",
      "|295496|The Fern Street A...| 1501882|    Debbie|        28803|35.55537|-82.53539|Entire home/apt| 50.0|            90|             31.0|             0.29|                             1|             339|Asheville|\n",
      "|304379|Refocus Cottage -...| 1566145|     Gayle|        28804|35.64453|-82.52586|Entire home/apt|289.0|            30|             24.0|             0.23|                             2|               0|Asheville|\n",
      "|353092|Athena's Loft:  F...| 1788071|      Beth|        28806|35.58217|-82.59997|Entire home/apt| 78.0|             4|            497.0|             5.76|                             1|             315|Asheville|\n",
      "|427497|Luxurious Mountai...| 1909922|     Milan|        28803|35.49111|-82.48438|Entire home/apt|125.0|             2|             40.0|             0.42|                             1|             339|Asheville|\n",
      "|436476|8 min Walk to DT ...|  478398|     Heidi|        28801|35.60182|-82.56174|Entire home/apt|126.0|             3|            289.0|             2.86|                             3|              96|Asheville|\n",
      "|483384|Romantic, Morocca...|  467421|   Camille|        28803|35.56118|-82.57784|Entire home/apt|118.0|             2|            466.0|             6.39|                             1|               0|Asheville|\n",
      "|495111|Walk Downtown pri...|12874214|     David|        28801|35.60371|-82.55621|   Private room| 85.0|             2|            338.0|             3.36|                             3|               0|Asheville|\n",
      "|498089|Urban Getaway - P...| 2164379|Anne Marie|        28801|35.61115|-82.54376|Entire home/apt| 50.0|            30|            130.0|             1.29|                             1|             141|Asheville|\n",
      "|528535|Dwntwn Studio w/ ...| 2596933|         B|        28801|35.60075| -82.5539|Entire home/apt| 97.0|            30|            352.0|              3.5|                             2|              32|Asheville|\n",
      "|539020|Comfy/quiet West ...| 2647849|       Kim|        28806|35.57318|-82.59976|Entire home/apt| 74.0|             2|            185.0|             1.86|                             1|             297|Asheville|\n",
      "|621243|The birdhouse.Swe...| 3079174|     Molly|        28801|35.60418|-82.54964|Entire home/apt|160.0|            30|             69.0|             2.25|                             1|             161|Asheville|\n",
      "+------+--------------------+--------+----------+-------------+--------+---------+---------------+-----+--------------+-----------------+-----------------+------------------------------+----------------+---------+\n",
      "only showing top 20 rows\n",
      "\n"
     ]
    }
   ],
   "source": [
    "df.na.fill(mean_nr, ['number_of_reviews']).show()"
   ]
  },
  {
   "cell_type": "code",
   "execution_count": null,
   "metadata": {
    "colab": {
     "base_uri": "https://localhost:8080/"
    },
    "id": "dTjwQdoAljkw",
    "outputId": "bf11fb5c-fcfc-4718-aa41-603d7145c2da"
   },
   "outputs": [
    {
     "name": "stdout",
     "output_type": "stream",
     "text": [
      "+------+--------------------+--------+----------+-------------+--------+---------+---------------+-----+--------------+-----------------+-----------------+------------------------------+----------------+---------+\n",
      "|    id|                name| host_id| host_name|neighbourhood|latitude|longitude|      room_type|price|minimum_nights|number_of_reviews|reviews_per_month|calculated_host_listings_count|availability_365|     city|\n",
      "+------+--------------------+--------+----------+-------------+--------+---------+---------------+-----+--------------+-----------------+-----------------+------------------------------+----------------+---------+\n",
      "| 38585|Charming Victoria...|  165529|   Evelyne|        28804|35.65146|-82.62792|   Private room| 60.0|             1|            138.0|             1.14|                             1|               0|Asheville|\n",
      "| 80905|    French Chic Loft|  427027|   Celeste|        28801|35.59779| -82.5554|Entire home/apt|470.0|             1|            114.0|             1.03|                            11|             288|Asheville|\n",
      "|108061|Walk to stores/pa...|  320564|      Lisa|        28801| 35.6067|-82.55563|Entire home/apt| 75.0|            30|             89.0|             0.81|                             2|             298|Asheville|\n",
      "|155305|Cottage! BonPaul ...|  746673|   BonPaul|        28806|35.57864|-82.59578|Entire home/apt| 90.0|             1|            267.0|             2.39|                             5|               0|Asheville|\n",
      "|160594| Historic Grove Park|  769252| Elizabeth|        28801|35.61442|-82.54127|   Private room|125.0|            30|             58.0|             0.52|                             1|               0|Asheville|\n",
      "|209068|     Terrace Cottage| 1029919|     Kevin|        28804|35.61856|-82.55276|Entire home/apt|134.0|             7|             54.0|             0.49|                             1|             294|Asheville|\n",
      "|213006|      Blue Gate West| 1098412|   Susanne|        28806|35.58345|-82.59713|   Private room| 48.0|             1|            137.0|             1.35|                             1|               0|Asheville|\n",
      "|246315|Asheville Dreamer...| 1292070|     Annie|        28805|35.59635|-82.50655|   Private room| 65.0|             3|             57.0|             0.53|                             2|             106|Asheville|\n",
      "|259576|Private, peaceful...| 1362726|     Julia|        28805|35.61929|-82.48114|Entire home/apt| 71.0|            28|            537.0|             5.01|                             1|             207|Asheville|\n",
      "|295496|The Fern Street A...| 1501882|    Debbie|        28803|35.55537|-82.53539|Entire home/apt| 50.0|            90|             31.0|             0.29|                             1|             339|Asheville|\n",
      "|304379|Refocus Cottage -...| 1566145|     Gayle|        28804|35.64453|-82.52586|Entire home/apt|289.0|            30|             24.0|             0.23|                             2|               0|Asheville|\n",
      "|353092|Athena's Loft:  F...| 1788071|      Beth|        28806|35.58217|-82.59997|Entire home/apt| 78.0|             4|            497.0|             5.76|                             1|             315|Asheville|\n",
      "|427497|Luxurious Mountai...| 1909922|     Milan|        28803|35.49111|-82.48438|Entire home/apt|125.0|             2|             40.0|             0.42|                             1|             339|Asheville|\n",
      "|436476|8 min Walk to DT ...|  478398|     Heidi|        28801|35.60182|-82.56174|Entire home/apt|126.0|             3|            289.0|             2.86|                             3|              96|Asheville|\n",
      "|483384|Romantic, Morocca...|  467421|   Camille|        28803|35.56118|-82.57784|Entire home/apt|118.0|             2|            466.0|             6.39|                             1|               0|Asheville|\n",
      "|495111|Walk Downtown pri...|12874214|     David|        28801|35.60371|-82.55621|   Private room| 85.0|             2|            338.0|             3.36|                             3|               0|Asheville|\n",
      "|498089|Urban Getaway - P...| 2164379|Anne Marie|        28801|35.61115|-82.54376|Entire home/apt| 50.0|            30|            130.0|             1.29|                             1|             141|Asheville|\n",
      "|528535|Dwntwn Studio w/ ...| 2596933|         B|        28801|35.60075| -82.5539|Entire home/apt| 97.0|            30|            352.0|              3.5|                             2|              32|Asheville|\n",
      "|539020|Comfy/quiet West ...| 2647849|       Kim|        28806|35.57318|-82.59976|Entire home/apt| 74.0|             2|            185.0|             1.86|                             1|             297|Asheville|\n",
      "|621243|The birdhouse.Swe...| 3079174|     Molly|        28801|35.60418|-82.54964|Entire home/apt|160.0|            30|             69.0|             2.25|                             1|             161|Asheville|\n",
      "+------+--------------------+--------+----------+-------------+--------+---------+---------------+-----+--------------+-----------------+-----------------+------------------------------+----------------+---------+\n",
      "only showing top 20 rows\n",
      "\n"
     ]
    }
   ],
   "source": [
    "# Doing all the rest in one line\n",
    "df.na.fill(df.select(mean(df['reviews_per_month'])).collect()[0][0], ['reviews_per_month']).show()"
   ]
  },
  {
   "cell_type": "code",
   "execution_count": null,
   "metadata": {
    "colab": {
     "base_uri": "https://localhost:8080/"
    },
    "id": "__a2M_P2mHRb",
    "outputId": "2ae3fc9b-5395-43e6-f19b-625f1b092315"
   },
   "outputs": [
    {
     "name": "stdout",
     "output_type": "stream",
     "text": [
      "+------+--------------------+--------+----------+-------------+--------+---------+---------------+-----+--------------+-----------------+-----------------+------------------------------+----------------+---------+\n",
      "|    id|                name| host_id| host_name|neighbourhood|latitude|longitude|      room_type|price|minimum_nights|number_of_reviews|reviews_per_month|calculated_host_listings_count|availability_365|     city|\n",
      "+------+--------------------+--------+----------+-------------+--------+---------+---------------+-----+--------------+-----------------+-----------------+------------------------------+----------------+---------+\n",
      "| 38585|Charming Victoria...|  165529|   Evelyne|        28804|35.65146|-82.62792|   Private room| 60.0|             1|            138.0|             1.14|                             1|               0|Asheville|\n",
      "| 80905|    French Chic Loft|  427027|   Celeste|        28801|35.59779| -82.5554|Entire home/apt|470.0|             1|            114.0|             1.03|                            11|             288|Asheville|\n",
      "|108061|Walk to stores/pa...|  320564|      Lisa|        28801| 35.6067|-82.55563|Entire home/apt| 75.0|            30|             89.0|             0.81|                             2|             298|Asheville|\n",
      "|155305|Cottage! BonPaul ...|  746673|   BonPaul|        28806|35.57864|-82.59578|Entire home/apt| 90.0|             1|            267.0|             2.39|                             5|               0|Asheville|\n",
      "|160594| Historic Grove Park|  769252| Elizabeth|        28801|35.61442|-82.54127|   Private room|125.0|            30|             58.0|             0.52|                             1|               0|Asheville|\n",
      "|209068|     Terrace Cottage| 1029919|     Kevin|        28804|35.61856|-82.55276|Entire home/apt|134.0|             7|             54.0|             0.49|                             1|             294|Asheville|\n",
      "|213006|      Blue Gate West| 1098412|   Susanne|        28806|35.58345|-82.59713|   Private room| 48.0|             1|            137.0|             1.35|                             1|               0|Asheville|\n",
      "|246315|Asheville Dreamer...| 1292070|     Annie|        28805|35.59635|-82.50655|   Private room| 65.0|             3|             57.0|             0.53|                             2|             106|Asheville|\n",
      "|259576|Private, peaceful...| 1362726|     Julia|        28805|35.61929|-82.48114|Entire home/apt| 71.0|            28|            537.0|             5.01|                             1|             207|Asheville|\n",
      "|295496|The Fern Street A...| 1501882|    Debbie|        28803|35.55537|-82.53539|Entire home/apt| 50.0|            90|             31.0|             0.29|                             1|             339|Asheville|\n",
      "|304379|Refocus Cottage -...| 1566145|     Gayle|        28804|35.64453|-82.52586|Entire home/apt|289.0|            30|             24.0|             0.23|                             2|               0|Asheville|\n",
      "|353092|Athena's Loft:  F...| 1788071|      Beth|        28806|35.58217|-82.59997|Entire home/apt| 78.0|             4|            497.0|             5.76|                             1|             315|Asheville|\n",
      "|427497|Luxurious Mountai...| 1909922|     Milan|        28803|35.49111|-82.48438|Entire home/apt|125.0|             2|             40.0|             0.42|                             1|             339|Asheville|\n",
      "|436476|8 min Walk to DT ...|  478398|     Heidi|        28801|35.60182|-82.56174|Entire home/apt|126.0|             3|            289.0|             2.86|                             3|              96|Asheville|\n",
      "|483384|Romantic, Morocca...|  467421|   Camille|        28803|35.56118|-82.57784|Entire home/apt|118.0|             2|            466.0|             6.39|                             1|               0|Asheville|\n",
      "|495111|Walk Downtown pri...|12874214|     David|        28801|35.60371|-82.55621|   Private room| 85.0|             2|            338.0|             3.36|                             3|               0|Asheville|\n",
      "|498089|Urban Getaway - P...| 2164379|Anne Marie|        28801|35.61115|-82.54376|Entire home/apt| 50.0|            30|            130.0|             1.29|                             1|             141|Asheville|\n",
      "|528535|Dwntwn Studio w/ ...| 2596933|         B|        28801|35.60075| -82.5539|Entire home/apt| 97.0|            30|            352.0|              3.5|                             2|              32|Asheville|\n",
      "|539020|Comfy/quiet West ...| 2647849|       Kim|        28806|35.57318|-82.59976|Entire home/apt| 74.0|             2|            185.0|             1.86|                             1|             297|Asheville|\n",
      "|621243|The birdhouse.Swe...| 3079174|     Molly|        28801|35.60418|-82.54964|Entire home/apt|160.0|            30|             69.0|             2.25|                             1|             161|Asheville|\n",
      "+------+--------------------+--------+----------+-------------+--------+---------+---------------+-----+--------------+-----------------+-----------------+------------------------------+----------------+---------+\n",
      "only showing top 20 rows\n",
      "\n"
     ]
    }
   ],
   "source": [
    "df.na.fill(df.select(mean(df['calculated_host_listings_count'])).collect()[0][0], ['calculated_host_listings_count']).show()"
   ]
  },
  {
   "cell_type": "code",
   "execution_count": null,
   "metadata": {
    "colab": {
     "base_uri": "https://localhost:8080/"
    },
    "id": "B5hha6eQmSs4",
    "outputId": "e02fb869-5d11-4223-fc10-e6b87d1fe9d2"
   },
   "outputs": [
    {
     "name": "stdout",
     "output_type": "stream",
     "text": [
      "+------+--------------------+--------+----------+-------------+--------+---------+---------------+-----+--------------+-----------------+-----------------+------------------------------+----------------+---------+\n",
      "|    id|                name| host_id| host_name|neighbourhood|latitude|longitude|      room_type|price|minimum_nights|number_of_reviews|reviews_per_month|calculated_host_listings_count|availability_365|     city|\n",
      "+------+--------------------+--------+----------+-------------+--------+---------+---------------+-----+--------------+-----------------+-----------------+------------------------------+----------------+---------+\n",
      "| 38585|Charming Victoria...|  165529|   Evelyne|        28804|35.65146|-82.62792|   Private room| 60.0|             1|            138.0|             1.14|                             1|               0|Asheville|\n",
      "| 80905|    French Chic Loft|  427027|   Celeste|        28801|35.59779| -82.5554|Entire home/apt|470.0|             1|            114.0|             1.03|                            11|             288|Asheville|\n",
      "|108061|Walk to stores/pa...|  320564|      Lisa|        28801| 35.6067|-82.55563|Entire home/apt| 75.0|            30|             89.0|             0.81|                             2|             298|Asheville|\n",
      "|155305|Cottage! BonPaul ...|  746673|   BonPaul|        28806|35.57864|-82.59578|Entire home/apt| 90.0|             1|            267.0|             2.39|                             5|               0|Asheville|\n",
      "|160594| Historic Grove Park|  769252| Elizabeth|        28801|35.61442|-82.54127|   Private room|125.0|            30|             58.0|             0.52|                             1|               0|Asheville|\n",
      "|209068|     Terrace Cottage| 1029919|     Kevin|        28804|35.61856|-82.55276|Entire home/apt|134.0|             7|             54.0|             0.49|                             1|             294|Asheville|\n",
      "|213006|      Blue Gate West| 1098412|   Susanne|        28806|35.58345|-82.59713|   Private room| 48.0|             1|            137.0|             1.35|                             1|               0|Asheville|\n",
      "|246315|Asheville Dreamer...| 1292070|     Annie|        28805|35.59635|-82.50655|   Private room| 65.0|             3|             57.0|             0.53|                             2|             106|Asheville|\n",
      "|259576|Private, peaceful...| 1362726|     Julia|        28805|35.61929|-82.48114|Entire home/apt| 71.0|            28|            537.0|             5.01|                             1|             207|Asheville|\n",
      "|295496|The Fern Street A...| 1501882|    Debbie|        28803|35.55537|-82.53539|Entire home/apt| 50.0|            90|             31.0|             0.29|                             1|             339|Asheville|\n",
      "|304379|Refocus Cottage -...| 1566145|     Gayle|        28804|35.64453|-82.52586|Entire home/apt|289.0|            30|             24.0|             0.23|                             2|               0|Asheville|\n",
      "|353092|Athena's Loft:  F...| 1788071|      Beth|        28806|35.58217|-82.59997|Entire home/apt| 78.0|             4|            497.0|             5.76|                             1|             315|Asheville|\n",
      "|427497|Luxurious Mountai...| 1909922|     Milan|        28803|35.49111|-82.48438|Entire home/apt|125.0|             2|             40.0|             0.42|                             1|             339|Asheville|\n",
      "|436476|8 min Walk to DT ...|  478398|     Heidi|        28801|35.60182|-82.56174|Entire home/apt|126.0|             3|            289.0|             2.86|                             3|              96|Asheville|\n",
      "|483384|Romantic, Morocca...|  467421|   Camille|        28803|35.56118|-82.57784|Entire home/apt|118.0|             2|            466.0|             6.39|                             1|               0|Asheville|\n",
      "|495111|Walk Downtown pri...|12874214|     David|        28801|35.60371|-82.55621|   Private room| 85.0|             2|            338.0|             3.36|                             3|               0|Asheville|\n",
      "|498089|Urban Getaway - P...| 2164379|Anne Marie|        28801|35.61115|-82.54376|Entire home/apt| 50.0|            30|            130.0|             1.29|                             1|             141|Asheville|\n",
      "|528535|Dwntwn Studio w/ ...| 2596933|         B|        28801|35.60075| -82.5539|Entire home/apt| 97.0|            30|            352.0|              3.5|                             2|              32|Asheville|\n",
      "|539020|Comfy/quiet West ...| 2647849|       Kim|        28806|35.57318|-82.59976|Entire home/apt| 74.0|             2|            185.0|             1.86|                             1|             297|Asheville|\n",
      "|621243|The birdhouse.Swe...| 3079174|     Molly|        28801|35.60418|-82.54964|Entire home/apt|160.0|            30|             69.0|             2.25|                             1|             161|Asheville|\n",
      "+------+--------------------+--------+----------+-------------+--------+---------+---------------+-----+--------------+-----------------+-----------------+------------------------------+----------------+---------+\n",
      "only showing top 20 rows\n",
      "\n"
     ]
    }
   ],
   "source": [
    "df.na.fill(df.select(mean(df['availability_365'])).collect()[0][0], ['availability_365']).show()"
   ]
  },
  {
   "cell_type": "markdown",
   "metadata": {
    "id": "700VHCZzHI_G"
   },
   "source": [
    "# Exploring the Dataset"
   ]
  },
  {
   "cell_type": "code",
   "execution_count": null,
   "metadata": {
    "id": "fjEdxvGTVD1y"
   },
   "outputs": [],
   "source": [
    "import pandas as pd\n",
    "import matplotlib.pyplot as plt\n",
    "import seaborn as sns"
   ]
  },
  {
   "cell_type": "code",
   "execution_count": null,
   "metadata": {
    "id": "2R75Oa-OYQd1"
   },
   "outputs": [],
   "source": [
    "df_explore = df.filter(df.price > 0)"
   ]
  },
  {
   "cell_type": "code",
   "execution_count": null,
   "metadata": {
    "colab": {
     "base_uri": "https://localhost:8080/",
     "height": 369
    },
    "id": "qm4-osbhqdpv",
    "outputId": "b89a69f6-ca02-4f35-c29e-162bd5e0b234"
   },
   "outputs": [
    {
     "data": {
      "image/png": "[encoded data removed]",
      "text/plain": [
       "<Figure size 360x360 with 1 Axes>"
      ]
     },
     "metadata": {
      "needs_background": "light",
      "tags": []
     },
     "output_type": "display_data"
    }
   ],
   "source": [
    "df_price = df.filter((df.price > 50) & (df.price < 500)).toPandas()\n",
    "sns.displot(df_price, x = 'price', kind='kde', bw_adjust=2);"
   ]
  },
  {
   "cell_type": "code",
   "execution_count": null,
   "metadata": {
    "colab": {
     "base_uri": "https://localhost:8080/"
    },
    "id": "g9-qg42_YaAN",
    "outputId": "df31402d-ac91-448e-a53b-38b660e681bb"
   },
   "outputs": [
    {
     "name": "stdout",
     "output_type": "stream",
     "text": [
      "+--------------------+------+\n",
      "|           room_type| count|\n",
      "+--------------------+------+\n",
      "|         Shared room|  4015|\n",
      "|             Burbank|     1|\n",
      "|          Hotel room|  1899|\n",
      "|Unincorporated Areas|     1|\n",
      "|     Entire home/apt|153796|\n",
      "|   City of Henderson|     1|\n",
      "|        Private room| 65569|\n",
      "+--------------------+------+\n",
      "\n"
     ]
    }
   ],
   "source": [
    "df_explore.groupby('room_type').count().show()"
   ]
  },
  {
   "cell_type": "code",
   "execution_count": null,
   "metadata": {
    "colab": {
     "base_uri": "https://localhost:8080/",
     "height": 265
    },
    "id": "hZCP9wGfnY9S",
    "outputId": "20d403ca-dc84-47c6-ee5c-85a22b3794e9"
   },
   "outputs": [
    {
     "data": {
      "image/png": "[encoded data removed]",
      "text/plain": [
       "<Figure size 432x288 with 1 Axes>"
      ]
     },
     "metadata": {
      "needs_background": "light",
      "tags": []
     },
     "output_type": "display_data"
    }
   ],
   "source": [
    "df_type = df_explore.groupby('room_type').count().toPandas()\n",
    "df_type.plot.barh('room_type');"
   ]
  },
  {
   "cell_type": "code",
   "execution_count": null,
   "metadata": {
    "colab": {
     "base_uri": "https://localhost:8080/"
    },
    "id": "T8nEdIUUYhpC",
    "outputId": "09a4636a-a316-4f41-d958-e21931551899"
   },
   "outputs": [
    {
     "name": "stdout",
     "output_type": "stream",
     "text": [
      "+--------------+-----+\n",
      "|          city|count|\n",
      "+--------------+-----+\n",
      "|        Hawaii|22369|\n",
      "|       Oakland| 3201|\n",
      "|Broward County|10814|\n",
      "|   Los Angeles|31386|\n",
      "|     Cambridge| 1029|\n",
      "|     Nashville| 6126|\n",
      "|     San Diego|12353|\n",
      "| San Francisco| 7041|\n",
      "|      Portland| 4264|\n",
      "|      Columbus| 1404|\n",
      "+--------------+-----+\n",
      "only showing top 10 rows\n",
      "\n"
     ]
    }
   ],
   "source": [
    "df_explore.groupby('city').count().show(10)"
   ]
  },
  {
   "cell_type": "code",
   "execution_count": null,
   "metadata": {
    "colab": {
     "base_uri": "https://localhost:8080/",
     "height": 592
    },
    "id": "UPsUwW6VvCg4",
    "outputId": "e149cbd7-9c86-4d9c-d552-06d4542030c1"
   },
   "outputs": [
    {
     "data": {
      "image/png": "[encoded data removed]",
      "text/plain": [
       "<Figure size 720x720 with 1 Axes>"
      ]
     },
     "metadata": {
      "needs_background": "light",
      "tags": []
     },
     "output_type": "display_data"
    }
   ],
   "source": [
    "df_city_graph = df_explore.groupby('city').count().toPandas()\n",
    "fig, ax = plt.subplots(figsize=(10,10))\n",
    "ax.barh(df_city_graph.iloc[:,0],df_city_graph.iloc[:,1],color='crimson')\n",
    "plt.show();"
   ]
  },
  {
   "cell_type": "code",
   "execution_count": null,
   "metadata": {
    "colab": {
     "base_uri": "https://localhost:8080/"
    },
    "id": "Gp4xJHgZIUI_",
    "outputId": "23aa6ca0-20ba-4407-ec9c-ce9023eab4b7"
   },
   "outputs": [
    {
     "name": "stdout",
     "output_type": "stream",
     "text": [
      "+---------------+-----+---------+\n",
      "|      room_type|price|     city|\n",
      "+---------------+-----+---------+\n",
      "|   Private room| 60.0|Asheville|\n",
      "|Entire home/apt|470.0|Asheville|\n",
      "|Entire home/apt| 75.0|Asheville|\n",
      "|Entire home/apt| 90.0|Asheville|\n",
      "|   Private room|125.0|Asheville|\n",
      "|Entire home/apt|134.0|Asheville|\n",
      "|   Private room| 65.0|Asheville|\n",
      "|Entire home/apt| 71.0|Asheville|\n",
      "|Entire home/apt|289.0|Asheville|\n",
      "|Entire home/apt| 78.0|Asheville|\n",
      "|Entire home/apt|125.0|Asheville|\n",
      "|Entire home/apt|126.0|Asheville|\n",
      "|Entire home/apt|118.0|Asheville|\n",
      "|   Private room| 85.0|Asheville|\n",
      "|Entire home/apt| 97.0|Asheville|\n",
      "|Entire home/apt| 74.0|Asheville|\n",
      "|Entire home/apt|160.0|Asheville|\n",
      "|Entire home/apt|150.0|Asheville|\n",
      "|Entire home/apt| 91.0|Asheville|\n",
      "|   Private room| 52.0|Asheville|\n",
      "+---------------+-----+---------+\n",
      "only showing top 20 rows\n",
      "\n"
     ]
    }
   ],
   "source": [
    "df.filter(df['price'] > 50).select('room_type','price','city').show()"
   ]
  },
  {
   "cell_type": "code",
   "execution_count": null,
   "metadata": {
    "colab": {
     "base_uri": "https://localhost:8080/",
     "height": 384
    },
    "id": "Fd9i-vhcuGFC",
    "outputId": "1b37df3b-7857-4137-883d-57a9ed646161"
   },
   "outputs": [
    {
     "data": {
      "image/png": "[encoded data removed]",
      "text/plain": [
       "<Figure size 360x360 with 1 Axes>"
      ]
     },
     "metadata": {
      "needs_background": "light",
      "tags": []
     },
     "output_type": "display_data"
    }
   ],
   "source": [
    "df_type_price = df.filter((df.price > 50) & (df.price < 500)).select('room_type','price').toPandas()\n",
    "sns.catplot(x=\"room_type\", y=\"price\", kind=\"box\", data=df_type_price);"
   ]
  },
  {
   "cell_type": "code",
   "execution_count": null,
   "metadata": {
    "colab": {
     "base_uri": "https://localhost:8080/"
    },
    "id": "o4CtT6nlHO2T",
    "outputId": "15710665-f2db-44df-b75a-70dff5295f7a"
   },
   "outputs": [
    {
     "name": "stdout",
     "output_type": "stream",
     "text": [
      "+------------+-----+---------+\n",
      "|   room_type|price|     city|\n",
      "+------------+-----+---------+\n",
      "|Private room| 60.0|Asheville|\n",
      "|Private room|125.0|Asheville|\n",
      "|Private room| 48.0|Asheville|\n",
      "|Private room| 65.0|Asheville|\n",
      "|Private room| 85.0|Asheville|\n",
      "|Private room| 41.0|Asheville|\n",
      "|Private room| 52.0|Asheville|\n",
      "|Private room|169.0|Asheville|\n",
      "|Private room| 52.0|Asheville|\n",
      "|Private room| 57.0|Asheville|\n",
      "|Private room| 65.0|Asheville|\n",
      "|Private room| 95.0|Asheville|\n",
      "|Private room| 80.0|Asheville|\n",
      "|Private room| 85.0|Asheville|\n",
      "|Private room| 70.0|Asheville|\n",
      "|Private room|149.0|Asheville|\n",
      "|Private room| 57.0|Asheville|\n",
      "|Private room| 81.0|Asheville|\n",
      "|Private room| 92.0|Asheville|\n",
      "|Private room| 38.0|Asheville|\n",
      "+------------+-----+---------+\n",
      "only showing top 20 rows\n",
      "\n"
     ]
    }
   ],
   "source": [
    "df.filter(df['room_type'] == 'Private room').select('room_type','price','city').show()"
   ]
  },
  {
   "cell_type": "code",
   "execution_count": null,
   "metadata": {
    "colab": {
     "base_uri": "https://localhost:8080/"
    },
    "id": "uXMtEp92Jzby",
    "outputId": "caeb9b1e-2e84-447c-dcc5-467d6069e612"
   },
   "outputs": [
    {
     "name": "stdout",
     "output_type": "stream",
     "text": [
      "+---------------+-----+\n",
      "|      room_type|count|\n",
      "+---------------+-----+\n",
      "|    Shared room|  940|\n",
      "|     Hotel room|  393|\n",
      "|Entire home/apt|23529|\n",
      "|   Private room|20767|\n",
      "+---------------+-----+\n",
      "\n"
     ]
    }
   ],
   "source": [
    "df.filter(df['city'] == 'New York City').groupBy('room_type').count().show()"
   ]
  },
  {
   "cell_type": "code",
   "execution_count": null,
   "metadata": {
    "colab": {
     "base_uri": "https://localhost:8080/"
    },
    "id": "Ep1QjlbXXaZz",
    "outputId": "7c3ab569-9043-4207-f026-4cf10f7db35f"
   },
   "outputs": [
    {
     "name": "stdout",
     "output_type": "stream",
     "text": [
      "+-----------------+-----+\n",
      "|             city|count|\n",
      "+-----------------+-----+\n",
      "|           Hawaii|21726|\n",
      "|          Oakland| 2727|\n",
      "|   Broward County| 9436|\n",
      "|      Los Angeles|26951|\n",
      "|        Cambridge|  961|\n",
      "|        Nashville| 5823|\n",
      "|        San Diego|11215|\n",
      "|    San Francisco| 6612|\n",
      "|         Portland| 3770|\n",
      "|         Columbus| 1100|\n",
      "|San Clara Country| 5915|\n",
      "|           Austin| 9252|\n",
      "|          Chicago| 5289|\n",
      "| San Mateo County| 2573|\n",
      "|        Asheville| 1927|\n",
      "|    Pacific Grove|  172|\n",
      "|            Salem|  153|\n",
      "|      New Orleans| 6085|\n",
      "|     Rhode Island| 3632|\n",
      "|          Seattle| 5942|\n",
      "+-----------------+-----+\n",
      "only showing top 20 rows\n",
      "\n"
     ]
    }
   ],
   "source": [
    "df.filter(df['price'] > 50).groupBy('city').count().show()"
   ]
  },
  {
   "cell_type": "code",
   "execution_count": null,
   "metadata": {
    "colab": {
     "base_uri": "https://localhost:8080/"
    },
    "id": "oXlaPYcaXpzw",
    "outputId": "44cdb0be-4c9c-491e-f0b2-c806524a6e1a"
   },
   "outputs": [
    {
     "name": "stdout",
     "output_type": "stream",
     "text": [
      "+-------------------------+\n",
      "|count(DISTINCT room_type)|\n",
      "+-------------------------+\n",
      "|                        7|\n",
      "+-------------------------+\n",
      "\n"
     ]
    }
   ],
   "source": [
    "df_explore.select(countDistinct('room_type')).show()"
   ]
  },
  {
   "cell_type": "code",
   "execution_count": null,
   "metadata": {
    "colab": {
     "base_uri": "https://localhost:8080/"
    },
    "id": "nWb5tAceMGmM",
    "outputId": "9d5efe3b-2202-4167-90a0-4f20f29ac714"
   },
   "outputs": [
    {
     "name": "stdout",
     "output_type": "stream",
     "text": [
      "+--------------------+\n",
      "|count(DISTINCT city)|\n",
      "+--------------------+\n",
      "|                  31|\n",
      "+--------------------+\n",
      "\n"
     ]
    }
   ],
   "source": [
    "df_explore.select(countDistinct('city')).show()"
   ]
  },
  {
   "cell_type": "code",
   "execution_count": null,
   "metadata": {
    "colab": {
     "base_uri": "https://localhost:8080/"
    },
    "id": "3spYW97Tz8We",
    "outputId": "47156ccf-a923-40f1-a3da-b98a19b42007"
   },
   "outputs": [
    {
     "name": "stdout",
     "output_type": "stream",
     "text": [
      "+-----------------------------+\n",
      "|count(DISTINCT neighbourhood)|\n",
      "+-----------------------------+\n",
      "|                         1452|\n",
      "+-----------------------------+\n",
      "\n"
     ]
    }
   ],
   "source": [
    "df_explore.select(countDistinct('neighbourhood')).show()"
   ]
  },
  {
   "cell_type": "code",
   "execution_count": null,
   "metadata": {
    "colab": {
     "base_uri": "https://localhost:8080/"
    },
    "id": "eAxcZxYaMY90",
    "outputId": "b8715cd6-d38d-47d8-b4a6-6b57c6a2575d"
   },
   "outputs": [
    {
     "name": "stdout",
     "output_type": "stream",
     "text": [
      "+------------------+\n",
      "|        avg(Price)|\n",
      "+------------------+\n",
      "|219.92446948464593|\n",
      "+------------------+\n",
      "\n"
     ]
    }
   ],
   "source": [
    "df_explore.agg({'Price':'avg'}).show()"
   ]
  },
  {
   "cell_type": "markdown",
   "metadata": {
    "id": "JEb4HTRwiaJx"
   },
   "source": [
    "\n",
    "# Regression Modelling\n",
    "\n",
    "\n",
    "Linear Regression model is one the oldest and widely used machine learning approach which assumes a relationship between dependent and independent variables. \n",
    "\n",
    "The goal of our project is to predict the Airbnb prices by the given features. Based on the above exploration and understanding on the dataset, some features are meaningless. So we will use some features for prediction. "
   ]
  },
  {
   "cell_type": "code",
   "execution_count": null,
   "metadata": {
    "id": "Mrxf1L7Q3oae"
   },
   "outputs": [],
   "source": [
    "model_df = df"
   ]
  },
  {
   "cell_type": "code",
   "execution_count": null,
   "metadata": {
    "id": "DcbGZgyA3_Bh"
   },
   "outputs": [],
   "source": [
    "model_df = model_df.drop('id','name','host_id','host_name','latitude','longitude')"
   ]
  },
  {
   "cell_type": "code",
   "execution_count": null,
   "metadata": {
    "colab": {
     "base_uri": "https://localhost:8080/"
    },
    "id": "EEJ78CgX3olr",
    "outputId": "51f9d9be-a32c-40aa-872d-c11d38e1ebee"
   },
   "outputs": [
    {
     "name": "stdout",
     "output_type": "stream",
     "text": [
      "root\n",
      " |-- neighbourhood: string (nullable = true)\n",
      " |-- room_type: string (nullable = true)\n",
      " |-- price: double (nullable = true)\n",
      " |-- minimum_nights: integer (nullable = true)\n",
      " |-- number_of_reviews: double (nullable = true)\n",
      " |-- reviews_per_month: double (nullable = true)\n",
      " |-- calculated_host_listings_count: integer (nullable = true)\n",
      " |-- availability_365: integer (nullable = true)\n",
      " |-- city: string (nullable = true)\n",
      "\n"
     ]
    }
   ],
   "source": [
    "model_df.printSchema()"
   ]
  },
  {
   "cell_type": "markdown",
   "metadata": {
    "id": "21D9EANUvnwF"
   },
   "source": [
    "For our linear regression model we need to import some modules from Pyspark i.e. StringIndexer, Vector Assembler and Linear Regression. StringIndexer is used for handling categorical data. We use it to convert columns with string values to numeric values. Vector Assembler is a transformer that assembles all the features into one vector from multiple columns that contain type double. "
   ]
  },
  {
   "cell_type": "code",
   "execution_count": null,
   "metadata": {
    "id": "0ZeJ7WQCgM8g"
   },
   "outputs": [],
   "source": [
    "from pyspark.ml.feature import StringIndexer\n",
    "from pyspark.ml.feature import VectorAssembler\n",
    "from pyspark.ml.regression import LinearRegression\n",
    "# from pyspark.ml import Pipeline\n",
    "from pyspark.ml.feature import StandardScaler"
   ]
  },
  {
   "cell_type": "code",
   "execution_count": null,
   "metadata": {
    "id": "dBiALl9c48-3"
   },
   "outputs": [],
   "source": [
    "s = ['neighbourhood','room_type','city']"
   ]
  },
  {
   "cell_type": "code",
   "execution_count": null,
   "metadata": {
    "colab": {
     "base_uri": "https://localhost:8080/"
    },
    "id": "EN4tmig6DUMp",
    "outputId": "6eae8741-3e71-4b2d-c1e9-f08206b4c261"
   },
   "outputs": [
    {
     "name": "stdout",
     "output_type": "stream",
     "text": [
      "+-------------+---------------+-----+--------------+-----------------+-----------------+------------------------------+----------------+---------+-------------------+\n",
      "|neighbourhood|      room_type|price|minimum_nights|number_of_reviews|reviews_per_month|calculated_host_listings_count|availability_365|     city|neighbourhood_index|\n",
      "+-------------+---------------+-----+--------------+-----------------+-----------------+------------------------------+----------------+---------+-------------------+\n",
      "|        28804|   Private room| 60.0|             1|            138.0|             1.14|                             1|               0|Asheville|              198.0|\n",
      "|        28801|Entire home/apt|470.0|             1|            114.0|             1.03|                            11|             288|Asheville|               79.0|\n",
      "|        28801|Entire home/apt| 75.0|            30|             89.0|             0.81|                             2|             298|Asheville|               79.0|\n",
      "|        28806|Entire home/apt| 90.0|             1|            267.0|             2.39|                             5|               0|Asheville|               70.0|\n",
      "|        28801|   Private room|125.0|            30|             58.0|             0.52|                             1|               0|Asheville|               79.0|\n",
      "|        28804|Entire home/apt|134.0|             7|             54.0|             0.49|                             1|             294|Asheville|              198.0|\n",
      "|        28806|   Private room| 48.0|             1|            137.0|             1.35|                             1|               0|Asheville|               70.0|\n",
      "|        28805|   Private room| 65.0|             3|             57.0|             0.53|                             2|             106|Asheville|              230.0|\n",
      "|        28805|Entire home/apt| 71.0|            28|            537.0|             5.01|                             1|             207|Asheville|              230.0|\n",
      "|        28803|Entire home/apt| 50.0|            90|             31.0|             0.29|                             1|             339|Asheville|              178.0|\n",
      "|        28804|Entire home/apt|289.0|            30|             24.0|             0.23|                             2|               0|Asheville|              198.0|\n",
      "|        28806|Entire home/apt| 78.0|             4|            497.0|             5.76|                             1|             315|Asheville|               70.0|\n",
      "|        28803|Entire home/apt|125.0|             2|             40.0|             0.42|                             1|             339|Asheville|              178.0|\n",
      "|        28801|Entire home/apt|126.0|             3|            289.0|             2.86|                             3|              96|Asheville|               79.0|\n",
      "|        28803|Entire home/apt|118.0|             2|            466.0|             6.39|                             1|               0|Asheville|              178.0|\n",
      "|        28801|   Private room| 85.0|             2|            338.0|             3.36|                             3|               0|Asheville|               79.0|\n",
      "|        28801|Entire home/apt| 50.0|            30|            130.0|             1.29|                             1|             141|Asheville|               79.0|\n",
      "|        28801|Entire home/apt| 97.0|            30|            352.0|              3.5|                             2|              32|Asheville|               79.0|\n",
      "|        28806|Entire home/apt| 74.0|             2|            185.0|             1.86|                             1|             297|Asheville|               70.0|\n",
      "|        28801|Entire home/apt|160.0|            30|             69.0|             2.25|                             1|             161|Asheville|               79.0|\n",
      "+-------------+---------------+-----+--------------+-----------------+-----------------+------------------------------+----------------+---------+-------------------+\n",
      "only showing top 20 rows\n",
      "\n"
     ]
    }
   ],
   "source": [
    "strIndexer_1 = StringIndexer(inputCol = 'neighbourhood' , outputCol= 'neighbourhood_index').fit(model_df)\n",
    "model_df_nh = strIndexer_1.transform(model_df)\n",
    "model_df_nh.show()\n"
   ]
  },
  {
   "cell_type": "code",
   "execution_count": null,
   "metadata": {
    "colab": {
     "base_uri": "https://localhost:8080/"
    },
    "id": "nWpsHETUF-3I",
    "outputId": "8ace304f-6430-4c24-ffab-12ae3e23b0fd"
   },
   "outputs": [
    {
     "name": "stdout",
     "output_type": "stream",
     "text": [
      "+-------------+---------------+-----+--------------+-----------------+-----------------+------------------------------+----------------+---------+-------------------+---------------+\n",
      "|neighbourhood|      room_type|price|minimum_nights|number_of_reviews|reviews_per_month|calculated_host_listings_count|availability_365|     city|neighbourhood_index|room_type_index|\n",
      "+-------------+---------------+-----+--------------+-----------------+-----------------+------------------------------+----------------+---------+-------------------+---------------+\n",
      "|        28804|   Private room| 60.0|             1|            138.0|             1.14|                             1|               0|Asheville|              198.0|            1.0|\n",
      "|        28801|Entire home/apt|470.0|             1|            114.0|             1.03|                            11|             288|Asheville|               79.0|            0.0|\n",
      "|        28801|Entire home/apt| 75.0|            30|             89.0|             0.81|                             2|             298|Asheville|               79.0|            0.0|\n",
      "|        28806|Entire home/apt| 90.0|             1|            267.0|             2.39|                             5|               0|Asheville|               70.0|            0.0|\n",
      "|        28801|   Private room|125.0|            30|             58.0|             0.52|                             1|               0|Asheville|               79.0|            1.0|\n",
      "|        28804|Entire home/apt|134.0|             7|             54.0|             0.49|                             1|             294|Asheville|              198.0|            0.0|\n",
      "|        28806|   Private room| 48.0|             1|            137.0|             1.35|                             1|               0|Asheville|               70.0|            1.0|\n",
      "|        28805|   Private room| 65.0|             3|             57.0|             0.53|                             2|             106|Asheville|              230.0|            1.0|\n",
      "|        28805|Entire home/apt| 71.0|            28|            537.0|             5.01|                             1|             207|Asheville|              230.0|            0.0|\n",
      "|        28803|Entire home/apt| 50.0|            90|             31.0|             0.29|                             1|             339|Asheville|              178.0|            0.0|\n",
      "|        28804|Entire home/apt|289.0|            30|             24.0|             0.23|                             2|               0|Asheville|              198.0|            0.0|\n",
      "|        28806|Entire home/apt| 78.0|             4|            497.0|             5.76|                             1|             315|Asheville|               70.0|            0.0|\n",
      "|        28803|Entire home/apt|125.0|             2|             40.0|             0.42|                             1|             339|Asheville|              178.0|            0.0|\n",
      "|        28801|Entire home/apt|126.0|             3|            289.0|             2.86|                             3|              96|Asheville|               79.0|            0.0|\n",
      "|        28803|Entire home/apt|118.0|             2|            466.0|             6.39|                             1|               0|Asheville|              178.0|            0.0|\n",
      "|        28801|   Private room| 85.0|             2|            338.0|             3.36|                             3|               0|Asheville|               79.0|            1.0|\n",
      "|        28801|Entire home/apt| 50.0|            30|            130.0|             1.29|                             1|             141|Asheville|               79.0|            0.0|\n",
      "|        28801|Entire home/apt| 97.0|            30|            352.0|              3.5|                             2|              32|Asheville|               79.0|            0.0|\n",
      "|        28806|Entire home/apt| 74.0|             2|            185.0|             1.86|                             1|             297|Asheville|               70.0|            0.0|\n",
      "|        28801|Entire home/apt|160.0|            30|             69.0|             2.25|                             1|             161|Asheville|               79.0|            0.0|\n",
      "+-------------+---------------+-----+--------------+-----------------+-----------------+------------------------------+----------------+---------+-------------------+---------------+\n",
      "only showing top 20 rows\n",
      "\n"
     ]
    }
   ],
   "source": [
    "strIndexer_2 = StringIndexer(inputCol = 'room_type' , outputCol= 'room_type_index').fit(model_df_nh)\n",
    "model_df_rt = strIndexer_2.transform(model_df_nh)\n",
    "model_df_rt.show()"
   ]
  },
  {
   "cell_type": "code",
   "execution_count": null,
   "metadata": {
    "colab": {
     "base_uri": "https://localhost:8080/"
    },
    "id": "jnoUveNzGRHX",
    "outputId": "82ac7c4e-15df-4987-c2b3-78ca5d34f7b8"
   },
   "outputs": [
    {
     "name": "stdout",
     "output_type": "stream",
     "text": [
      "+-------------+---------------+-----+--------------+-----------------+-----------------+------------------------------+----------------+---------+-------------------+---------------+----------+\n",
      "|neighbourhood|      room_type|price|minimum_nights|number_of_reviews|reviews_per_month|calculated_host_listings_count|availability_365|     city|neighbourhood_index|room_type_index|city_index|\n",
      "+-------------+---------------+-----+--------------+-----------------+-----------------+------------------------------+----------------+---------+-------------------+---------------+----------+\n",
      "|        28804|   Private room| 60.0|             1|            138.0|             1.14|                             1|               0|Asheville|              198.0|            1.0|      22.0|\n",
      "|        28801|Entire home/apt|470.0|             1|            114.0|             1.03|                            11|             288|Asheville|               79.0|            0.0|      22.0|\n",
      "|        28801|Entire home/apt| 75.0|            30|             89.0|             0.81|                             2|             298|Asheville|               79.0|            0.0|      22.0|\n",
      "|        28806|Entire home/apt| 90.0|             1|            267.0|             2.39|                             5|               0|Asheville|               70.0|            0.0|      22.0|\n",
      "|        28801|   Private room|125.0|            30|             58.0|             0.52|                             1|               0|Asheville|               79.0|            1.0|      22.0|\n",
      "|        28804|Entire home/apt|134.0|             7|             54.0|             0.49|                             1|             294|Asheville|              198.0|            0.0|      22.0|\n",
      "|        28806|   Private room| 48.0|             1|            137.0|             1.35|                             1|               0|Asheville|               70.0|            1.0|      22.0|\n",
      "|        28805|   Private room| 65.0|             3|             57.0|             0.53|                             2|             106|Asheville|              230.0|            1.0|      22.0|\n",
      "|        28805|Entire home/apt| 71.0|            28|            537.0|             5.01|                             1|             207|Asheville|              230.0|            0.0|      22.0|\n",
      "|        28803|Entire home/apt| 50.0|            90|             31.0|             0.29|                             1|             339|Asheville|              178.0|            0.0|      22.0|\n",
      "|        28804|Entire home/apt|289.0|            30|             24.0|             0.23|                             2|               0|Asheville|              198.0|            0.0|      22.0|\n",
      "|        28806|Entire home/apt| 78.0|             4|            497.0|             5.76|                             1|             315|Asheville|               70.0|            0.0|      22.0|\n",
      "|        28803|Entire home/apt|125.0|             2|             40.0|             0.42|                             1|             339|Asheville|              178.0|            0.0|      22.0|\n",
      "|        28801|Entire home/apt|126.0|             3|            289.0|             2.86|                             3|              96|Asheville|               79.0|            0.0|      22.0|\n",
      "|        28803|Entire home/apt|118.0|             2|            466.0|             6.39|                             1|               0|Asheville|              178.0|            0.0|      22.0|\n",
      "|        28801|   Private room| 85.0|             2|            338.0|             3.36|                             3|               0|Asheville|               79.0|            1.0|      22.0|\n",
      "|        28801|Entire home/apt| 50.0|            30|            130.0|             1.29|                             1|             141|Asheville|               79.0|            0.0|      22.0|\n",
      "|        28801|Entire home/apt| 97.0|            30|            352.0|              3.5|                             2|              32|Asheville|               79.0|            0.0|      22.0|\n",
      "|        28806|Entire home/apt| 74.0|             2|            185.0|             1.86|                             1|             297|Asheville|               70.0|            0.0|      22.0|\n",
      "|        28801|Entire home/apt|160.0|            30|             69.0|             2.25|                             1|             161|Asheville|               79.0|            0.0|      22.0|\n",
      "+-------------+---------------+-----+--------------+-----------------+-----------------+------------------------------+----------------+---------+-------------------+---------------+----------+\n",
      "only showing top 20 rows\n",
      "\n"
     ]
    }
   ],
   "source": [
    "strIndexer_3 = StringIndexer(inputCol = 'city' , outputCol= 'city_index').fit(model_df_rt)\n",
    "model_df_final = strIndexer_3.transform(model_df_rt)\n",
    "model_df_final.show()"
   ]
  },
  {
   "cell_type": "code",
   "execution_count": null,
   "metadata": {
    "colab": {
     "base_uri": "https://localhost:8080/"
    },
    "id": "6lHX-D2IFCdu",
    "outputId": "d17aa927-1fa7-4f35-ce8a-8d26924725ed"
   },
   "outputs": [
    {
     "name": "stdout",
     "output_type": "stream",
     "text": [
      "root\n",
      " |-- neighbourhood: string (nullable = true)\n",
      " |-- room_type: string (nullable = true)\n",
      " |-- price: double (nullable = true)\n",
      " |-- minimum_nights: integer (nullable = true)\n",
      " |-- number_of_reviews: double (nullable = true)\n",
      " |-- reviews_per_month: double (nullable = true)\n",
      " |-- calculated_host_listings_count: integer (nullable = true)\n",
      " |-- availability_365: integer (nullable = true)\n",
      " |-- city: string (nullable = true)\n",
      " |-- neighbourhood_index: double (nullable = false)\n",
      " |-- room_type_index: double (nullable = false)\n",
      " |-- city_index: double (nullable = false)\n",
      "\n"
     ]
    }
   ],
   "source": [
    "model_df_final.printSchema()"
   ]
  },
  {
   "cell_type": "code",
   "execution_count": null,
   "metadata": {
    "id": "VtScKQBiKN5N"
   },
   "outputs": [],
   "source": [
    "from pyspark.ml.feature import Imputer"
   ]
  },
  {
   "cell_type": "code",
   "execution_count": null,
   "metadata": {
    "id": "FK0rESpxKUKM"
   },
   "outputs": [],
   "source": [
    "n = ['price','minimum_nights','number_of_reviews','reviews_per_month', 'calculated_host_listings_count',\n",
    "     'availability_365']"
   ]
  },
  {
   "cell_type": "code",
   "execution_count": null,
   "metadata": {
    "id": "loUvDs9YLtTZ"
   },
   "outputs": [],
   "source": [
    "n_imputed = [var + '_imputed' for var in n]\n",
    "imputer = Imputer(inputCols=n, outputCols = n_imputed)\n",
    "model_df_final = imputer.fit(model_df_final).transform(model_df_final)"
   ]
  },
  {
   "cell_type": "code",
   "execution_count": null,
   "metadata": {
    "colab": {
     "base_uri": "https://localhost:8080/"
    },
    "id": "6binhJCpMc4j",
    "outputId": "f53056cf-4a1b-4ab0-e017-abab7b73a535"
   },
   "outputs": [
    {
     "name": "stdout",
     "output_type": "stream",
     "text": [
      "root\n",
      " |-- neighbourhood: string (nullable = true)\n",
      " |-- room_type: string (nullable = true)\n",
      " |-- price: double (nullable = true)\n",
      " |-- minimum_nights: integer (nullable = true)\n",
      " |-- number_of_reviews: double (nullable = true)\n",
      " |-- reviews_per_month: double (nullable = true)\n",
      " |-- calculated_host_listings_count: integer (nullable = true)\n",
      " |-- availability_365: integer (nullable = true)\n",
      " |-- city: string (nullable = true)\n",
      " |-- neighbourhood_index: double (nullable = false)\n",
      " |-- room_type_index: double (nullable = false)\n",
      " |-- city_index: double (nullable = false)\n",
      " |-- price_imputed: double (nullable = true)\n",
      " |-- calculated_host_listings_count_imputed: integer (nullable = true)\n",
      " |-- number_of_reviews_imputed: double (nullable = true)\n",
      " |-- reviews_per_month_imputed: double (nullable = true)\n",
      " |-- minimum_nights_imputed: integer (nullable = true)\n",
      " |-- availability_365_imputed: integer (nullable = true)\n",
      "\n"
     ]
    }
   ],
   "source": [
    "model_df_final.printSchema()"
   ]
  },
  {
   "cell_type": "code",
   "execution_count": null,
   "metadata": {
    "colab": {
     "base_uri": "https://localhost:8080/"
    },
    "id": "mKfagBxSMmmd",
    "outputId": "7f4f29e3-9eac-4042-926e-17db2843f7ed"
   },
   "outputs": [
    {
     "name": "stdout",
     "output_type": "stream",
     "text": [
      "+-------------+---------------+-----+--------------+-----------------+-----------------+------------------------------+----------------+---------+-------------------+---------------+----------+-------------+--------------------------------------+-------------------------+-------------------------+----------------------+------------------------+\n",
      "|neighbourhood|      room_type|price|minimum_nights|number_of_reviews|reviews_per_month|calculated_host_listings_count|availability_365|     city|neighbourhood_index|room_type_index|city_index|price_imputed|calculated_host_listings_count_imputed|number_of_reviews_imputed|reviews_per_month_imputed|minimum_nights_imputed|availability_365_imputed|\n",
      "+-------------+---------------+-----+--------------+-----------------+-----------------+------------------------------+----------------+---------+-------------------+---------------+----------+-------------+--------------------------------------+-------------------------+-------------------------+----------------------+------------------------+\n",
      "|        28804|   Private room| 60.0|             1|            138.0|             1.14|                             1|               0|Asheville|              198.0|            1.0|      22.0|         60.0|                                     1|                    138.0|                     1.14|                     1|                       0|\n",
      "|        28801|Entire home/apt|470.0|             1|            114.0|             1.03|                            11|             288|Asheville|               79.0|            0.0|      22.0|        470.0|                                    11|                    114.0|                     1.03|                     1|                     288|\n",
      "|        28801|Entire home/apt| 75.0|            30|             89.0|             0.81|                             2|             298|Asheville|               79.0|            0.0|      22.0|         75.0|                                     2|                     89.0|                     0.81|                    30|                     298|\n",
      "|        28806|Entire home/apt| 90.0|             1|            267.0|             2.39|                             5|               0|Asheville|               70.0|            0.0|      22.0|         90.0|                                     5|                    267.0|                     2.39|                     1|                       0|\n",
      "|        28801|   Private room|125.0|            30|             58.0|             0.52|                             1|               0|Asheville|               79.0|            1.0|      22.0|        125.0|                                     1|                     58.0|                     0.52|                    30|                       0|\n",
      "|        28804|Entire home/apt|134.0|             7|             54.0|             0.49|                             1|             294|Asheville|              198.0|            0.0|      22.0|        134.0|                                     1|                     54.0|                     0.49|                     7|                     294|\n",
      "|        28806|   Private room| 48.0|             1|            137.0|             1.35|                             1|               0|Asheville|               70.0|            1.0|      22.0|         48.0|                                     1|                    137.0|                     1.35|                     1|                       0|\n",
      "|        28805|   Private room| 65.0|             3|             57.0|             0.53|                             2|             106|Asheville|              230.0|            1.0|      22.0|         65.0|                                     2|                     57.0|                     0.53|                     3|                     106|\n",
      "|        28805|Entire home/apt| 71.0|            28|            537.0|             5.01|                             1|             207|Asheville|              230.0|            0.0|      22.0|         71.0|                                     1|                    537.0|                     5.01|                    28|                     207|\n",
      "|        28803|Entire home/apt| 50.0|            90|             31.0|             0.29|                             1|             339|Asheville|              178.0|            0.0|      22.0|         50.0|                                     1|                     31.0|                     0.29|                    90|                     339|\n",
      "|        28804|Entire home/apt|289.0|            30|             24.0|             0.23|                             2|               0|Asheville|              198.0|            0.0|      22.0|        289.0|                                     2|                     24.0|                     0.23|                    30|                       0|\n",
      "|        28806|Entire home/apt| 78.0|             4|            497.0|             5.76|                             1|             315|Asheville|               70.0|            0.0|      22.0|         78.0|                                     1|                    497.0|                     5.76|                     4|                     315|\n",
      "|        28803|Entire home/apt|125.0|             2|             40.0|             0.42|                             1|             339|Asheville|              178.0|            0.0|      22.0|        125.0|                                     1|                     40.0|                     0.42|                     2|                     339|\n",
      "|        28801|Entire home/apt|126.0|             3|            289.0|             2.86|                             3|              96|Asheville|               79.0|            0.0|      22.0|        126.0|                                     3|                    289.0|                     2.86|                     3|                      96|\n",
      "|        28803|Entire home/apt|118.0|             2|            466.0|             6.39|                             1|               0|Asheville|              178.0|            0.0|      22.0|        118.0|                                     1|                    466.0|                     6.39|                     2|                       0|\n",
      "|        28801|   Private room| 85.0|             2|            338.0|             3.36|                             3|               0|Asheville|               79.0|            1.0|      22.0|         85.0|                                     3|                    338.0|                     3.36|                     2|                       0|\n",
      "|        28801|Entire home/apt| 50.0|            30|            130.0|             1.29|                             1|             141|Asheville|               79.0|            0.0|      22.0|         50.0|                                     1|                    130.0|                     1.29|                    30|                     141|\n",
      "|        28801|Entire home/apt| 97.0|            30|            352.0|              3.5|                             2|              32|Asheville|               79.0|            0.0|      22.0|         97.0|                                     2|                    352.0|                      3.5|                    30|                      32|\n",
      "|        28806|Entire home/apt| 74.0|             2|            185.0|             1.86|                             1|             297|Asheville|               70.0|            0.0|      22.0|         74.0|                                     1|                    185.0|                     1.86|                     2|                     297|\n",
      "|        28801|Entire home/apt|160.0|            30|             69.0|             2.25|                             1|             161|Asheville|               79.0|            0.0|      22.0|        160.0|                                     1|                     69.0|                     2.25|                    30|                     161|\n",
      "+-------------+---------------+-----+--------------+-----------------+-----------------+------------------------------+----------------+---------+-------------------+---------------+----------+-------------+--------------------------------------+-------------------------+-------------------------+----------------------+------------------------+\n",
      "only showing top 20 rows\n",
      "\n"
     ]
    }
   ],
   "source": [
    "model_df_final.show()"
   ]
  },
  {
   "cell_type": "code",
   "execution_count": null,
   "metadata": {
    "id": "Wf44saQQ-w0x"
   },
   "outputs": [],
   "source": [
    "featuresUsed = ['minimum_nights_imputed','number_of_reviews_imputed','reviews_per_month_imputed','calculated_host_listings_count_imputed',\n",
    "                'availability_365_imputed','neighbourhood_index','room_type_index','city_index']"
   ]
  },
  {
   "cell_type": "code",
   "execution_count": null,
   "metadata": {
    "id": "jM74BEtn_o0X"
   },
   "outputs": [],
   "source": [
    "# Put the features to be trained into a vector\n",
    "assembler = VectorAssembler(inputCols=featuresUsed, outputCol='features_unscaled')\n",
    "data = assembler.transform(model_df_final)"
   ]
  },
  {
   "cell_type": "code",
   "execution_count": null,
   "metadata": {
    "colab": {
     "base_uri": "https://localhost:8080/"
    },
    "id": "c83k_Hz0HTr6",
    "outputId": "8b141590-409e-4b9f-aeca-07ae7be15fec"
   },
   "outputs": [
    {
     "name": "stdout",
     "output_type": "stream",
     "text": [
      "+-------------+---------------+-----+--------------+-----------------+-----------------+------------------------------+----------------+---------+-------------------+---------------+----------+-------------+--------------------------------------+-------------------------+-------------------------+----------------------+------------------------+--------------------+\n",
      "|neighbourhood|      room_type|price|minimum_nights|number_of_reviews|reviews_per_month|calculated_host_listings_count|availability_365|     city|neighbourhood_index|room_type_index|city_index|price_imputed|calculated_host_listings_count_imputed|number_of_reviews_imputed|reviews_per_month_imputed|minimum_nights_imputed|availability_365_imputed|   features_unscaled|\n",
      "+-------------+---------------+-----+--------------+-----------------+-----------------+------------------------------+----------------+---------+-------------------+---------------+----------+-------------+--------------------------------------+-------------------------+-------------------------+----------------------+------------------------+--------------------+\n",
      "|        28804|   Private room| 60.0|             1|            138.0|             1.14|                             1|               0|Asheville|              198.0|            1.0|      22.0|         60.0|                                     1|                    138.0|                     1.14|                     1|                       0|[1.0,138.0,1.14,1...|\n",
      "|        28801|Entire home/apt|470.0|             1|            114.0|             1.03|                            11|             288|Asheville|               79.0|            0.0|      22.0|        470.0|                                    11|                    114.0|                     1.03|                     1|                     288|[1.0,114.0,1.03,1...|\n",
      "|        28801|Entire home/apt| 75.0|            30|             89.0|             0.81|                             2|             298|Asheville|               79.0|            0.0|      22.0|         75.0|                                     2|                     89.0|                     0.81|                    30|                     298|[30.0,89.0,0.81,2...|\n",
      "|        28806|Entire home/apt| 90.0|             1|            267.0|             2.39|                             5|               0|Asheville|               70.0|            0.0|      22.0|         90.0|                                     5|                    267.0|                     2.39|                     1|                       0|[1.0,267.0,2.39,5...|\n",
      "|        28801|   Private room|125.0|            30|             58.0|             0.52|                             1|               0|Asheville|               79.0|            1.0|      22.0|        125.0|                                     1|                     58.0|                     0.52|                    30|                       0|[30.0,58.0,0.52,1...|\n",
      "|        28804|Entire home/apt|134.0|             7|             54.0|             0.49|                             1|             294|Asheville|              198.0|            0.0|      22.0|        134.0|                                     1|                     54.0|                     0.49|                     7|                     294|[7.0,54.0,0.49,1....|\n",
      "|        28806|   Private room| 48.0|             1|            137.0|             1.35|                             1|               0|Asheville|               70.0|            1.0|      22.0|         48.0|                                     1|                    137.0|                     1.35|                     1|                       0|[1.0,137.0,1.35,1...|\n",
      "|        28805|   Private room| 65.0|             3|             57.0|             0.53|                             2|             106|Asheville|              230.0|            1.0|      22.0|         65.0|                                     2|                     57.0|                     0.53|                     3|                     106|[3.0,57.0,0.53,2....|\n",
      "|        28805|Entire home/apt| 71.0|            28|            537.0|             5.01|                             1|             207|Asheville|              230.0|            0.0|      22.0|         71.0|                                     1|                    537.0|                     5.01|                    28|                     207|[28.0,537.0,5.01,...|\n",
      "|        28803|Entire home/apt| 50.0|            90|             31.0|             0.29|                             1|             339|Asheville|              178.0|            0.0|      22.0|         50.0|                                     1|                     31.0|                     0.29|                    90|                     339|[90.0,31.0,0.29,1...|\n",
      "|        28804|Entire home/apt|289.0|            30|             24.0|             0.23|                             2|               0|Asheville|              198.0|            0.0|      22.0|        289.0|                                     2|                     24.0|                     0.23|                    30|                       0|[30.0,24.0,0.23,2...|\n",
      "|        28806|Entire home/apt| 78.0|             4|            497.0|             5.76|                             1|             315|Asheville|               70.0|            0.0|      22.0|         78.0|                                     1|                    497.0|                     5.76|                     4|                     315|[4.0,497.0,5.76,1...|\n",
      "|        28803|Entire home/apt|125.0|             2|             40.0|             0.42|                             1|             339|Asheville|              178.0|            0.0|      22.0|        125.0|                                     1|                     40.0|                     0.42|                     2|                     339|[2.0,40.0,0.42,1....|\n",
      "|        28801|Entire home/apt|126.0|             3|            289.0|             2.86|                             3|              96|Asheville|               79.0|            0.0|      22.0|        126.0|                                     3|                    289.0|                     2.86|                     3|                      96|[3.0,289.0,2.86,3...|\n",
      "|        28803|Entire home/apt|118.0|             2|            466.0|             6.39|                             1|               0|Asheville|              178.0|            0.0|      22.0|        118.0|                                     1|                    466.0|                     6.39|                     2|                       0|[2.0,466.0,6.39,1...|\n",
      "|        28801|   Private room| 85.0|             2|            338.0|             3.36|                             3|               0|Asheville|               79.0|            1.0|      22.0|         85.0|                                     3|                    338.0|                     3.36|                     2|                       0|[2.0,338.0,3.36,3...|\n",
      "|        28801|Entire home/apt| 50.0|            30|            130.0|             1.29|                             1|             141|Asheville|               79.0|            0.0|      22.0|         50.0|                                     1|                    130.0|                     1.29|                    30|                     141|[30.0,130.0,1.29,...|\n",
      "|        28801|Entire home/apt| 97.0|            30|            352.0|              3.5|                             2|              32|Asheville|               79.0|            0.0|      22.0|         97.0|                                     2|                    352.0|                      3.5|                    30|                      32|[30.0,352.0,3.5,2...|\n",
      "|        28806|Entire home/apt| 74.0|             2|            185.0|             1.86|                             1|             297|Asheville|               70.0|            0.0|      22.0|         74.0|                                     1|                    185.0|                     1.86|                     2|                     297|[2.0,185.0,1.86,1...|\n",
      "|        28801|Entire home/apt|160.0|            30|             69.0|             2.25|                             1|             161|Asheville|               79.0|            0.0|      22.0|        160.0|                                     1|                     69.0|                     2.25|                    30|                     161|[30.0,69.0,2.25,1...|\n",
      "+-------------+---------------+-----+--------------+-----------------+-----------------+------------------------------+----------------+---------+-------------------+---------------+----------+-------------+--------------------------------------+-------------------------+-------------------------+----------------------+------------------------+--------------------+\n",
      "only showing top 20 rows\n",
      "\n"
     ]
    }
   ],
   "source": [
    "data.show()"
   ]
  },
  {
   "cell_type": "code",
   "execution_count": null,
   "metadata": {
    "id": "txY_u8iz7j63"
   },
   "outputs": [],
   "source": [
    "# Use the StandardScaler to scale the data\n",
    "scaler = StandardScaler(inputCol = 'features_unscaled', outputCol='features', withStd=True)\n",
    "scalerModel = scaler.fit(data)\n",
    "data = scalerModel.transform(data)"
   ]
  },
  {
   "cell_type": "code",
   "execution_count": null,
   "metadata": {
    "id": "kNTIwpLrOjqA"
   },
   "outputs": [],
   "source": [
    "#Split training, validation and testing datasets\n",
    "train, validation, test = data.randomSplit([0.7, 0.2, 0.1], seed=42)"
   ]
  },
  {
   "cell_type": "markdown",
   "metadata": {
    "id": "dNgFCto2wHLd"
   },
   "source": [
    "Here, 'features' are the input features from all the columns and 'price' is the target column.\n",
    "We split the training, validation and testing data to our dataset (0.7, 0.2 and 0.1 in this case)."
   ]
  },
  {
   "cell_type": "markdown",
   "metadata": {
    "id": "ojuDGTMDVWDw"
   },
   "source": [
    "# Linear Regression"
   ]
  },
  {
   "cell_type": "code",
   "execution_count": null,
   "metadata": {
    "colab": {
     "base_uri": "https://localhost:8080/"
    },
    "id": "kwe1VT0UNOIN",
    "outputId": "74049299-ddb1-4afe-b23a-cef861131028"
   },
   "outputs": [
    {
     "name": "stdout",
     "output_type": "stream",
     "text": [
      "+-------------+---------------+-----+--------------+-----------------+-----------------+------------------------------+----------------+---------+-------------------+---------------+----------+-------------+--------------------------------------+-------------------------+-------------------------+----------------------+------------------------+--------------------+--------------------+------------------+\n",
      "|neighbourhood|      room_type|price|minimum_nights|number_of_reviews|reviews_per_month|calculated_host_listings_count|availability_365|     city|neighbourhood_index|room_type_index|city_index|price_imputed|calculated_host_listings_count_imputed|number_of_reviews_imputed|reviews_per_month_imputed|minimum_nights_imputed|availability_365_imputed|   features_unscaled|            features|        prediction|\n",
      "+-------------+---------------+-----+--------------+-----------------+-----------------+------------------------------+----------------+---------+-------------------+---------------+----------+-------------+--------------------------------------+-------------------------+-------------------------+----------------------+------------------------+--------------------+--------------------+------------------+\n",
      "|        28704|Entire home/apt| 49.0|            30|              1.0|             0.02|                             1|             182|Asheville|              374.0|            0.0|      22.0|         49.0|                                     1|                      1.0|                     0.02|                    30|                     182|[30.0,1.0,0.02,1....|[1.42420412267142...|259.23507979905384|\n",
      "|        28704|Entire home/apt| 67.0|             2|              4.0|              4.0|                             1|              51|Asheville|              374.0|            0.0|      22.0|         67.0|                                     1|                      4.0|                      4.0|                     2|                      51|[2.0,4.0,4.0,1.0,...|[9.49469415114283...|296.97286460095756|\n",
      "|        28704|Entire home/apt| 81.0|             2|            122.0|             4.29|                             1|               0|Asheville|              374.0|            0.0|      22.0|         81.0|                                     1|                    122.0|                     4.29|                     2|                       0|[2.0,122.0,4.29,1...|[9.49469415114283...|189.69254158407048|\n",
      "|        28704|Entire home/apt| 85.0|             2|             18.0|             1.57|                             1|              31|Asheville|              374.0|            0.0|      22.0|         85.0|                                     1|                     18.0|                     1.57|                     2|                      31|[2.0,18.0,1.57,1....|[9.49469415114283...|251.11897373274866|\n",
      "|        28704|Entire home/apt| 87.0|             2|             81.0|             1.78|                             1|             112|Asheville|              374.0|            0.0|      22.0|         87.0|                                     1|                     81.0|                     1.78|                     2|                     112|[2.0,81.0,1.78,1....|[9.49469415114283...|208.88119265477366|\n",
      "|        28704|Entire home/apt| 90.0|             2|            320.0|             9.47|                             2|               0|Asheville|              374.0|            0.0|      22.0|         90.0|                                     2|                    320.0|                     9.47|                     2|                       0|[2.0,320.0,9.47,2...|[9.49469415114283...| 80.75909916359569|\n",
      "|        28704|Entire home/apt| 93.0|             1|             68.0|             2.87|                             1|               0|Asheville|              374.0|            0.0|      22.0|         93.0|                                     1|                     68.0|                     2.87|                     1|                       0|[1.0,68.0,2.87,1....|[4.74734707557141...| 219.6150882865894|\n",
      "|        28704|Entire home/apt| 95.0|             2|             96.0|              1.5|                             1|             147|Asheville|              374.0|            0.0|      22.0|         95.0|                                     1|                     96.0|                      1.5|                     2|                     147|[2.0,96.0,1.5,1.0...|[9.49469415114283...| 196.7182216908477|\n",
      "|        28704|Entire home/apt| 97.0|             2|             85.0|             1.85|                             1|             331|Asheville|              374.0|            0.0|      22.0|         97.0|                                     1|                     85.0|                     1.85|                     2|                     331|[2.0,85.0,1.85,1....|[9.49469415114283...|235.25170814870478|\n",
      "|        28704|Entire home/apt| 99.0|             2|             61.0|             1.97|                             2|             255|Asheville|              374.0|            0.0|      22.0|         99.0|                                     2|                     61.0|                     1.97|                     2|                     255|[2.0,61.0,1.97,2....|[9.49469415114283...| 248.0741314273326|\n",
      "|        28704|Entire home/apt|100.0|             1|              0.0|             null|                             1|             113|Asheville|              374.0|            0.0|      22.0|        100.0|                                     1|                      0.0|        1.436004387303934|                     1|                     113|[1.0,0.0,1.436004...|[4.74734707557141...| 276.4359318991843|\n",
      "|        28704|Entire home/apt|100.0|             1|            112.0|             4.66|                             1|              21|Asheville|              374.0|            0.0|      22.0|        100.0|                                     1|                    112.0|                     4.66|                     1|                      21|[1.0,112.0,4.66,1...|[4.74734707557141...|206.25975452118342|\n",
      "|        28704|Entire home/apt|102.0|             7|            263.0|             4.95|                             1|               0|Asheville|              374.0|            0.0|      22.0|        102.0|                                     1|                    263.0|                     4.95|                     7|                       0|[7.0,263.0,4.95,1...|[3.32314295289999...| 72.26299129749944|\n",
      "|        28704|Entire home/apt|104.0|             1|              2.0|              2.0|                             1|              72|Asheville|              374.0|            0.0|      22.0|        104.0|                                     1|                      2.0|                      2.0|                     1|                      72|[1.0,2.0,2.0,1.0,...|[4.74734707557141...| 276.3959281348874|\n",
      "|        28704|Entire home/apt|105.0|             2|             19.0|             2.48|                             1|             298|Asheville|              374.0|            0.0|      22.0|        105.0|                                     1|                     19.0|                     2.48|                     2|                     298|[2.0,19.0,2.48,1....|[9.49469415114283...|297.15915069887365|\n",
      "|        28704|Entire home/apt|114.0|             1|             32.0|             0.97|                             4|             351|Asheville|              374.0|            0.0|      22.0|        114.0|                                     4|                     32.0|                     0.97|                     1|                     351|[1.0,32.0,0.97,4....|[4.74734707557141...|274.31729503553345|\n",
      "|        28704|Entire home/apt|118.0|             2|             78.0|             3.33|                             1|             208|Asheville|              374.0|            0.0|      22.0|        118.0|                                     1|                     78.0|                     3.33|                     2|                     208|[2.0,78.0,3.33,1....|[9.49469415114283...|243.92132938742492|\n",
      "|        28704|Entire home/apt|120.0|             4|              9.0|             0.32|                             2|             266|Asheville|              374.0|            0.0|      22.0|        120.0|                                     2|                      9.0|                     0.32|                     4|                     266|[4.0,9.0,0.32,2.0...|[1.89893883022856...| 273.9941568280428|\n",
      "|        28704|Entire home/apt|126.0|             1|             68.0|             3.43|                             1|             227|Asheville|              374.0|            0.0|      22.0|        126.0|                                     1|                     68.0|                     3.43|                     1|                     227|[1.0,68.0,3.43,1....|[4.74734707557141...| 256.7967961997004|\n",
      "|        28704|Entire home/apt|126.0|             1|            123.0|             4.59|                             5|             328|Asheville|              374.0|            0.0|      22.0|        126.0|                                     5|                    123.0|                     4.59|                     1|                     328|[1.0,123.0,4.59,5...|[4.74734707557141...|237.02773497063973|\n",
      "+-------------+---------------+-----+--------------+-----------------+-----------------+------------------------------+----------------+---------+-------------------+---------------+----------+-------------+--------------------------------------+-------------------------+-------------------------+----------------------+------------------------+--------------------+--------------------+------------------+\n",
      "only showing top 20 rows\n",
      "\n"
     ]
    }
   ],
   "source": [
    "regressor = LinearRegression(featuresCol = 'features', labelCol = 'price')\n",
    "\n",
    "#Learn to fit the model from training set\n",
    "regressor = regressor.fit(train)\n",
    "\n",
    "#To predict the prices on validation set\n",
    "pred = regressor.evaluate(validation)\n",
    "\n",
    "#Predict the model\n",
    "pred.predictions.show()"
   ]
  },
  {
   "cell_type": "markdown",
   "metadata": {
    "id": "Y3vYyp5dwOm_"
   },
   "source": [
    "We can also print the coefficient and intercept of the regression model:"
   ]
  },
  {
   "cell_type": "code",
   "execution_count": null,
   "metadata": {
    "colab": {
     "base_uri": "https://localhost:8080/"
    },
    "id": "Eja1BLiaTThT",
    "outputId": "236ac86d-64fc-4bd1-9b4b-a96df6858f1e"
   },
   "outputs": [
    {
     "name": "stdout",
     "output_type": "stream",
     "text": [
      "The coefficient of the model is : DenseVector([-54387.6815, -56.1539, 19.9217, 8.9124, 18.5706, -19.8463, -56.3536, 6.6805])\n",
      "The Intercept of the model is : 250.752936\n"
     ]
    }
   ],
   "source": [
    "#coefficient of the regression model\n",
    "coeff = regressor.coefficients\n",
    "\n",
    "#X and Y intercept\n",
    "intr = regressor.intercept\n",
    "\n",
    "print (\"The coefficient of the model is : %a\" %coeff)\n",
    "print (\"The Intercept of the model is : %f\" %intr)\n"
   ]
  },
  {
   "cell_type": "markdown",
   "metadata": {
    "id": "k5i6e9WGU09V"
   },
   "source": [
    "Once we are done with the basic linear regression operation, we can go a bit further and analyze our model statistically by importing RegressionEvaluator module from Pyspark."
   ]
  },
  {
   "cell_type": "code",
   "execution_count": null,
   "metadata": {
    "colab": {
     "base_uri": "https://localhost:8080/"
    },
    "id": "0lGRoNL6UZuj",
    "outputId": "3efff619-5d0d-45b8-8b63-25330ea4df46"
   },
   "outputs": [
    {
     "name": "stdout",
     "output_type": "stream",
     "text": [
      "RMSE: 121959.277\n",
      "MSE: 14874065252.580\n",
      "MAE: 749.893\n",
      "r2: -38985.579\n"
     ]
    }
   ],
   "source": [
    "eval = RegressionEvaluator(labelCol=\"price\", predictionCol=\"prediction\", metricName=\"rmse\")\n",
    "\n",
    "# Root Mean Square Error\n",
    "rmse = eval.evaluate(pred.predictions)\n",
    "print(\"RMSE: %.3f\" % rmse)\n",
    "\n",
    "# Mean Square Error\n",
    "mse = eval.evaluate(pred.predictions, {eval.metricName: \"mse\"})\n",
    "print(\"MSE: %.3f\" % mse)\n",
    "\n",
    "# Mean Absolute Error\n",
    "mae = eval.evaluate(pred.predictions, {eval.metricName: \"mae\"})\n",
    "print(\"MAE: %.3f\" % mae)\n",
    "\n",
    "# r2 - coefficient of determination\n",
    "r2 = eval.evaluate(pred.predictions, {eval.metricName: \"r2\"})\n",
    "print(\"r2: %.3f\" %r2)"
   ]
  },
  {
   "cell_type": "markdown",
   "metadata": {
    "id": "hSZRJJtcVKq9"
   },
   "source": [
    "# Decision Tree Regression"
   ]
  },
  {
   "cell_type": "code",
   "execution_count": null,
   "metadata": {
    "id": "yMJX5JwCRbD-"
   },
   "outputs": [],
   "source": [
    "from pyspark.ml.regression import DecisionTreeRegressor"
   ]
  },
  {
   "cell_type": "code",
   "execution_count": null,
   "metadata": {
    "id": "lqB0Cv8jRcaJ"
   },
   "outputs": [],
   "source": [
    "dt = DecisionTreeRegressor(featuresCol ='features', labelCol = 'price')\n",
    "dt_model = dt.fit(train)\n",
    "dt_predictions = dt_model.transform(validation)"
   ]
  },
  {
   "cell_type": "code",
   "execution_count": null,
   "metadata": {
    "colab": {
     "base_uri": "https://localhost:8080/"
    },
    "id": "u4F9Y-DdSsLx",
    "outputId": "6493fcf8-8170-4711-b1c8-9d7732d4bace"
   },
   "outputs": [
    {
     "name": "stdout",
     "output_type": "stream",
     "text": [
      "+-------------+---------------+-----+--------------+-----------------+-----------------+------------------------------+----------------+---------+-------------------+---------------+----------+-------------+--------------------------------------+-------------------------+-------------------------+----------------------+------------------------+--------------------+--------------------+------------------+\n",
      "|neighbourhood|      room_type|price|minimum_nights|number_of_reviews|reviews_per_month|calculated_host_listings_count|availability_365|     city|neighbourhood_index|room_type_index|city_index|price_imputed|calculated_host_listings_count_imputed|number_of_reviews_imputed|reviews_per_month_imputed|minimum_nights_imputed|availability_365_imputed|   features_unscaled|            features|        prediction|\n",
      "+-------------+---------------+-----+--------------+-----------------+-----------------+------------------------------+----------------+---------+-------------------+---------------+----------+-------------+--------------------------------------+-------------------------+-------------------------+----------------------+------------------------+--------------------+--------------------+------------------+\n",
      "|        28704|Entire home/apt| 49.0|            30|              1.0|             0.02|                             1|             182|Asheville|              374.0|            0.0|      22.0|         49.0|                                     1|                      1.0|                     0.02|                    30|                     182|[30.0,1.0,0.02,1....|[1.42420412267142...|277.50703380840366|\n",
      "|        28704|Entire home/apt| 67.0|             2|              4.0|              4.0|                             1|              51|Asheville|              374.0|            0.0|      22.0|         67.0|                                     1|                      4.0|                      4.0|                     2|                      51|[2.0,4.0,4.0,1.0,...|[9.49469415114283...|164.04512948691246|\n",
      "|        28704|Entire home/apt| 81.0|             2|            122.0|             4.29|                             1|               0|Asheville|              374.0|            0.0|      22.0|         81.0|                                     1|                    122.0|                     4.29|                     2|                       0|[2.0,122.0,4.29,1...|[9.49469415114283...|164.04512948691246|\n",
      "|        28704|Entire home/apt| 85.0|             2|             18.0|             1.57|                             1|              31|Asheville|              374.0|            0.0|      22.0|         85.0|                                     1|                     18.0|                     1.57|                     2|                      31|[2.0,18.0,1.57,1....|[9.49469415114283...|210.54199497643052|\n",
      "|        28704|Entire home/apt| 87.0|             2|             81.0|             1.78|                             1|             112|Asheville|              374.0|            0.0|      22.0|         87.0|                                     1|                     81.0|                     1.78|                     2|                     112|[2.0,81.0,1.78,1....|[9.49469415114283...|164.04512948691246|\n",
      "|        28704|Entire home/apt| 90.0|             2|            320.0|             9.47|                             2|               0|Asheville|              374.0|            0.0|      22.0|         90.0|                                     2|                    320.0|                     9.47|                     2|                       0|[2.0,320.0,9.47,2...|[9.49469415114283...|164.04512948691246|\n",
      "|        28704|Entire home/apt| 93.0|             1|             68.0|             2.87|                             1|               0|Asheville|              374.0|            0.0|      22.0|         93.0|                                     1|                     68.0|                     2.87|                     1|                       0|[1.0,68.0,2.87,1....|[4.74734707557141...|164.04512948691246|\n",
      "|        28704|Entire home/apt| 95.0|             2|             96.0|              1.5|                             1|             147|Asheville|              374.0|            0.0|      22.0|         95.0|                                     1|                     96.0|                      1.5|                     2|                     147|[2.0,96.0,1.5,1.0...|[9.49469415114283...|210.54199497643052|\n",
      "|        28704|Entire home/apt| 97.0|             2|             85.0|             1.85|                             1|             331|Asheville|              374.0|            0.0|      22.0|         97.0|                                     1|                     85.0|                     1.85|                     2|                     331|[2.0,85.0,1.85,1....|[9.49469415114283...|164.04512948691246|\n",
      "|        28704|Entire home/apt| 99.0|             2|             61.0|             1.97|                             2|             255|Asheville|              374.0|            0.0|      22.0|         99.0|                                     2|                     61.0|                     1.97|                     2|                     255|[2.0,61.0,1.97,2....|[9.49469415114283...|164.04512948691246|\n",
      "|        28704|Entire home/apt|100.0|             1|              0.0|             null|                             1|             113|Asheville|              374.0|            0.0|      22.0|        100.0|                                     1|                      0.0|        1.436004387303934|                     1|                     113|[1.0,0.0,1.436004...|[4.74734707557141...|461.50864667618595|\n",
      "|        28704|Entire home/apt|100.0|             1|            112.0|             4.66|                             1|              21|Asheville|              374.0|            0.0|      22.0|        100.0|                                     1|                    112.0|                     4.66|                     1|                      21|[1.0,112.0,4.66,1...|[4.74734707557141...|164.04512948691246|\n",
      "|        28704|Entire home/apt|102.0|             7|            263.0|             4.95|                             1|               0|Asheville|              374.0|            0.0|      22.0|        102.0|                                     1|                    263.0|                     4.95|                     7|                       0|[7.0,263.0,4.95,1...|[3.32314295289999...|164.04512948691246|\n",
      "|        28704|Entire home/apt|104.0|             1|              2.0|              2.0|                             1|              72|Asheville|              374.0|            0.0|      22.0|        104.0|                                     1|                      2.0|                      2.0|                     1|                      72|[1.0,2.0,2.0,1.0,...|[4.74734707557141...|164.04512948691246|\n",
      "|        28704|Entire home/apt|105.0|             2|             19.0|             2.48|                             1|             298|Asheville|              374.0|            0.0|      22.0|        105.0|                                     1|                     19.0|                     2.48|                     2|                     298|[2.0,19.0,2.48,1....|[9.49469415114283...|164.04512948691246|\n",
      "|        28704|Entire home/apt|114.0|             1|             32.0|             0.97|                             4|             351|Asheville|              374.0|            0.0|      22.0|        114.0|                                     4|                     32.0|                     0.97|                     1|                     351|[1.0,32.0,0.97,4....|[4.74734707557141...|277.50703380840366|\n",
      "|        28704|Entire home/apt|118.0|             2|             78.0|             3.33|                             1|             208|Asheville|              374.0|            0.0|      22.0|        118.0|                                     1|                     78.0|                     3.33|                     2|                     208|[2.0,78.0,3.33,1....|[9.49469415114283...|164.04512948691246|\n",
      "|        28704|Entire home/apt|120.0|             4|              9.0|             0.32|                             2|             266|Asheville|              374.0|            0.0|      22.0|        120.0|                                     2|                      9.0|                     0.32|                     4|                     266|[4.0,9.0,0.32,2.0...|[1.89893883022856...|277.50703380840366|\n",
      "|        28704|Entire home/apt|126.0|             1|             68.0|             3.43|                             1|             227|Asheville|              374.0|            0.0|      22.0|        126.0|                                     1|                     68.0|                     3.43|                     1|                     227|[1.0,68.0,3.43,1....|[4.74734707557141...|164.04512948691246|\n",
      "|        28704|Entire home/apt|126.0|             1|            123.0|             4.59|                             5|             328|Asheville|              374.0|            0.0|      22.0|        126.0|                                     5|                    123.0|                     4.59|                     1|                     328|[1.0,123.0,4.59,5...|[4.74734707557141...|164.04512948691246|\n",
      "+-------------+---------------+-----+--------------+-----------------+-----------------+------------------------------+----------------+---------+-------------------+---------------+----------+-------------+--------------------------------------+-------------------------+-------------------------+----------------------+------------------------+--------------------+--------------------+------------------+\n",
      "only showing top 20 rows\n",
      "\n"
     ]
    }
   ],
   "source": [
    "dt_predictions.show()"
   ]
  },
  {
   "cell_type": "code",
   "execution_count": null,
   "metadata": {
    "colab": {
     "base_uri": "https://localhost:8080/"
    },
    "id": "TKS0Zc2RRw0l",
    "outputId": "195e2234-2a67-4d0f-a61d-c723f96a8686"
   },
   "outputs": [
    {
     "name": "stdout",
     "output_type": "stream",
     "text": [
      "Root Mean Squared Error (RMSE) on validation data: 601.909\n",
      "Mean Square Error (MSE) on validation data: 362294.006\n",
      "MAE: 162.873\n",
      "r2: 0.050\n"
     ]
    }
   ],
   "source": [
    "dt_evaluator = RegressionEvaluator(\n",
    "    labelCol=\"price\", predictionCol=\"prediction\", metricName=\"rmse\")\n",
    "# Root Mean Square Error\n",
    "rmse = dt_evaluator.evaluate(dt_predictions)\n",
    "print(\"Root Mean Squared Error (RMSE) on validation data: %g\" % rmse)\n",
    "# Mean Square Error\n",
    "mse = dt_evaluator.evaluate(dt_predictions,{dt_evaluator.metricName: \"mse\"})\n",
    "print(\"Mean Square Error (MSE) on validation data: %.3f\" % mse)\n",
    "# Mean Absolute Error\n",
    "mae = dt_evaluator.evaluate(dt_predictions, {dt_evaluator.metricName: \"mae\"})\n",
    "print(\"MAE: %.3f\" % mae)\n",
    "# r2 - coefficient of determination\n",
    "r2 = dt_evaluator.evaluate(dt_predictions, {dt_evaluator.metricName: \"r2\"})\n",
    "print(\"r2: %.3f\" %r2)"
   ]
  },
  {
   "cell_type": "markdown",
   "metadata": {
    "id": "kJeDCeZdVeJY"
   },
   "source": [
    "# Gradient-boosted Tree Regression"
   ]
  },
  {
   "cell_type": "code",
   "execution_count": null,
   "metadata": {
    "id": "qzxN_nRzVikQ"
   },
   "outputs": [],
   "source": [
    "from pyspark.ml.regression import GBTRegressor"
   ]
  },
  {
   "cell_type": "code",
   "execution_count": null,
   "metadata": {
    "id": "5KZV5XXmVk5R"
   },
   "outputs": [],
   "source": [
    "gbt = GBTRegressor(featuresCol = 'features', labelCol = 'price', maxIter=10)\n",
    "gbt_model = gbt.fit(train)\n",
    "gbt_predictions = gbt_model.transform(validation)"
   ]
  },
  {
   "cell_type": "code",
   "execution_count": null,
   "metadata": {
    "colab": {
     "base_uri": "https://localhost:8080/"
    },
    "id": "4yG9ok_RV2Eo",
    "outputId": "cc5731aa-5d96-424d-f3f6-6f93638b578f"
   },
   "outputs": [
    {
     "name": "stdout",
     "output_type": "stream",
     "text": [
      "Root Mean Squared Error (RMSE) on validation data: 585.378\n",
      "Mean Square Error (MSE) on validation data: 342667.031\n",
      "MAE: 156.235\n",
      "r2: 0.102\n"
     ]
    }
   ],
   "source": [
    "gbt_evaluator = RegressionEvaluator(\n",
    "    labelCol=\"price\", predictionCol=\"prediction\", metricName=\"rmse\")\n",
    "# Root Mean Square Error\n",
    "rmse = gbt_evaluator.evaluate(gbt_predictions)\n",
    "print(\"Root Mean Squared Error (RMSE) on validation data: %g\" % rmse)\n",
    "# Mean Square Error\n",
    "mse = gbt_evaluator.evaluate(gbt_predictions,{gbt_evaluator.metricName: \"mse\"})\n",
    "print(\"Mean Square Error (MSE) on validation data: %.3f\" % mse)\n",
    "# Mean Absolute Error\n",
    "mae = gbt_evaluator.evaluate(gbt_predictions, {gbt_evaluator.metricName: \"mae\"})\n",
    "print(\"MAE: %.3f\" % mae)\n",
    "# r2 - coefficient of determination\n",
    "r2 = gbt_evaluator.evaluate(gbt_predictions, {gbt_evaluator.metricName: \"r2\"})\n",
    "print(\"r2: %.3f\" %r2)"
   ]
  },
  {
   "cell_type": "markdown",
   "metadata": {
    "id": "z8hgNu5lWcP7"
   },
   "source": [
    "Based on three regression models above, gradient-boosted tree regression has the best performance, now we are using this model to predict testing dataset."
   ]
  },
  {
   "cell_type": "code",
   "execution_count": null,
   "metadata": {
    "id": "zqqZpbMJWs2e"
   },
   "outputs": [],
   "source": [
    "test_pred = gbt_model.transform(test)"
   ]
  },
  {
   "cell_type": "code",
   "execution_count": null,
   "metadata": {
    "colab": {
     "base_uri": "https://localhost:8080/"
    },
    "id": "AfamU1iSXE-8",
    "outputId": "8353b843-d190-4e93-d1bf-177535bb3fa7"
   },
   "outputs": [
    {
     "name": "stdout",
     "output_type": "stream",
     "text": [
      "Root Mean Squared Error (RMSE) on validation data: 517.378\n",
      "Mean Square Error (MSE) on validation data: 267680.224\n",
      "MAE: 150.278\n",
      "r2: 0.101\n"
     ]
    }
   ],
   "source": [
    "gbt_evaluator = RegressionEvaluator(\n",
    "    labelCol=\"price\", predictionCol=\"prediction\", metricName=\"rmse\")\n",
    "rmse = gbt_evaluator.evaluate(test_pred)\n",
    "print(\"Root Mean Squared Error (RMSE) on validation data: %g\" % rmse)\n",
    "\n",
    "mse = gbt_evaluator.evaluate(test_pred,{gbt_evaluator.metricName: \"mse\"})\n",
    "print(\"Mean Square Error (MSE) on validation data: %.3f\" % mse)\n",
    "\n",
    "mae = gbt_evaluator.evaluate(test_pred, {gbt_evaluator.metricName: \"mae\"})\n",
    "print(\"MAE: %.3f\" % mae)\n",
    "\n",
    "r2 = gbt_evaluator.evaluate(test_pred, {gbt_evaluator.metricName: \"r2\"})\n",
    "print(\"r2: %.3f\" %r2)"
   ]
  }
 ],
 "metadata": {
  "colab": {
   "collapsed_sections": [],
   "name": "Airbnb Price Prediction Modelling",
   "provenance": []
  },
  "kernelspec": {
   "display_name": "Python 3",
   "language": "python",
   "name": "python3"
  },
  "language_info": {
   "codemirror_mode": {
    "name": "ipython",
    "version": 3
   },
   "file_extension": ".py",
   "mimetype": "text/x-python",
   "name": "python",
   "nbconvert_exporter": "python",
   "pygments_lexer": "ipython3",
   "version": "3.7.4"
  }
 },
 "nbformat": 4,
 "nbformat_minor": 1
}
